{
 "cells": [
  {
   "cell_type": "markdown",
   "id": "01e59306-01df-4506-9750-dccb5cb38cec",
   "metadata": {},
   "source": [
    "# 项目：用线性回归预测房价数据"
   ]
  },
  {
   "cell_type": "markdown",
   "id": "21071e1f-5229-4656-b87e-a2bae34b8819",
   "metadata": {},
   "source": [
    "## 分析目标"
   ]
  },
  {
   "cell_type": "markdown",
   "id": "59afc35e-2af6-4156-97da-6b89a6c13e18",
   "metadata": {},
   "source": [
    "此数据分析报告的目的是，基于已有的房屋销售价格，以及有关该房屋的属性，进行线性回归分析，从而利用得到的线性回归模型，能对以下未知售价的房屋根据属性进行价格预测：\n",
    "\n",
    "面积为6500平方英尺，有4个卧室、2个厕所，总共2层，不位于主路，无客人房，带地下室，有热水器，没有空调，车位数为2，位于城市首选社区，简装修。"
   ]
  },
  {
   "cell_type": "markdown",
   "id": "909c6217-8261-4bc8-8344-7474a8ff714e",
   "metadata": {},
   "source": [
    "## 简介"
   ]
  },
  {
   "cell_type": "markdown",
   "id": "39ce9075-3efb-44b7-b69e-b699a5a4f6d0",
   "metadata": {},
   "source": [
    "数据集`house_price.csv`记录了超过五百栋房屋的交易价格，以及房屋的相关属性信息，包括房屋面积、卧室数、厕所数、楼层数、是否位于主路、是否有客房，等等。"
   ]
  },
  {
   "cell_type": "markdown",
   "id": "51b9003c-e379-4e12-9c3b-820746591626",
   "metadata": {},
   "source": [
    "`house_price.csv`每列的含义如下：\n",
    "- price：房屋出售价格\n",
    "- area：房屋面积，以平方英尺为单位\n",
    "- bedrooms：卧室数\n",
    "- bathrooms：厕所数\n",
    "- stories：楼层数\n",
    "- mainroad：是否位于主路\n",
    "   - yes  是\n",
    "   - no\t  否\n",
    "- guestroom：是否有客房\n",
    "   - yes  是\n",
    "   - no\t  否\n",
    "- basement：是否有地下室\n",
    "   - yes  是\n",
    "   - no\t  否\n",
    "- hotwaterheating：是否有热水器\n",
    "   - yes  是\n",
    "   - no\t  否\n",
    "- airconditioning：是否有空调\n",
    "   - yes  是\n",
    "   - no\t  否\n",
    "- parking：车库容量，以车辆数量为单位\n",
    "- prefarea：是否位于城市首选社区\n",
    "   - yes  是\n",
    "   - no\t  否\n",
    "- furnishingstatus：装修状态\n",
    "   - furnished       精装\n",
    "   - semi-furnished\t 简装\n",
    "   - unfurnished     毛坯"
   ]
  },
  {
   "cell_type": "markdown",
   "id": "96ed0514-c224-49d8-8f14-487e6babce7f",
   "metadata": {},
   "source": [
    "## 读取数据"
   ]
  },
  {
   "cell_type": "markdown",
   "id": "675af6e4-3296-4b3d-ba15-159efdeee79f",
   "metadata": {},
   "source": [
    "导入数据分析所需要的库。"
   ]
  },
  {
   "cell_type": "code",
   "execution_count": 1,
   "id": "c7084b39-f8f1-4bdd-800a-00404f159d7d",
   "metadata": {},
   "outputs": [],
   "source": [
    "import pandas as pd\n",
    "import matplotlib.pyplot as plt\n",
    "import seaborn as sns"
   ]
  },
  {
   "cell_type": "markdown",
   "id": "f702341e-1bbd-4885-acab-1f5e28deecbd",
   "metadata": {},
   "source": [
    "导入数据分析所需要的库，并通过Pandas的`read_csv`函数，将原始数据文件\"house_price.csv\"里的数据内容，解析为DataFrame并赋值给变量`original_house_price`。"
   ]
  },
  {
   "cell_type": "code",
   "execution_count": 3,
   "id": "ad0cb3ab-f8ee-429e-8577-8caa736ec5d0",
   "metadata": {},
   "outputs": [
    {
     "data": {
      "text/html": [
       "<div>\n",
       "<style scoped>\n",
       "    .dataframe tbody tr th:only-of-type {\n",
       "        vertical-align: middle;\n",
       "    }\n",
       "\n",
       "    .dataframe tbody tr th {\n",
       "        vertical-align: top;\n",
       "    }\n",
       "\n",
       "    .dataframe thead th {\n",
       "        text-align: right;\n",
       "    }\n",
       "</style>\n",
       "<table border=\"1\" class=\"dataframe\">\n",
       "  <thead>\n",
       "    <tr style=\"text-align: right;\">\n",
       "      <th></th>\n",
       "      <th>price</th>\n",
       "      <th>area</th>\n",
       "      <th>bedrooms</th>\n",
       "      <th>bathrooms</th>\n",
       "      <th>stories</th>\n",
       "      <th>mainroad</th>\n",
       "      <th>guestroom</th>\n",
       "      <th>basement</th>\n",
       "      <th>hotwaterheating</th>\n",
       "      <th>airconditioning</th>\n",
       "      <th>parking</th>\n",
       "      <th>prefarea</th>\n",
       "      <th>furnishingstatus</th>\n",
       "    </tr>\n",
       "  </thead>\n",
       "  <tbody>\n",
       "    <tr>\n",
       "      <th>0</th>\n",
       "      <td>13300000</td>\n",
       "      <td>7420</td>\n",
       "      <td>4</td>\n",
       "      <td>2</td>\n",
       "      <td>3</td>\n",
       "      <td>yes</td>\n",
       "      <td>no</td>\n",
       "      <td>no</td>\n",
       "      <td>no</td>\n",
       "      <td>yes</td>\n",
       "      <td>2</td>\n",
       "      <td>yes</td>\n",
       "      <td>furnished</td>\n",
       "    </tr>\n",
       "    <tr>\n",
       "      <th>1</th>\n",
       "      <td>12250000</td>\n",
       "      <td>8960</td>\n",
       "      <td>4</td>\n",
       "      <td>4</td>\n",
       "      <td>4</td>\n",
       "      <td>yes</td>\n",
       "      <td>no</td>\n",
       "      <td>no</td>\n",
       "      <td>no</td>\n",
       "      <td>yes</td>\n",
       "      <td>3</td>\n",
       "      <td>no</td>\n",
       "      <td>furnished</td>\n",
       "    </tr>\n",
       "    <tr>\n",
       "      <th>2</th>\n",
       "      <td>12250000</td>\n",
       "      <td>9960</td>\n",
       "      <td>3</td>\n",
       "      <td>2</td>\n",
       "      <td>2</td>\n",
       "      <td>yes</td>\n",
       "      <td>no</td>\n",
       "      <td>yes</td>\n",
       "      <td>no</td>\n",
       "      <td>no</td>\n",
       "      <td>2</td>\n",
       "      <td>yes</td>\n",
       "      <td>semi-furnished</td>\n",
       "    </tr>\n",
       "    <tr>\n",
       "      <th>3</th>\n",
       "      <td>12215000</td>\n",
       "      <td>7500</td>\n",
       "      <td>4</td>\n",
       "      <td>2</td>\n",
       "      <td>2</td>\n",
       "      <td>yes</td>\n",
       "      <td>no</td>\n",
       "      <td>yes</td>\n",
       "      <td>no</td>\n",
       "      <td>yes</td>\n",
       "      <td>3</td>\n",
       "      <td>yes</td>\n",
       "      <td>furnished</td>\n",
       "    </tr>\n",
       "    <tr>\n",
       "      <th>4</th>\n",
       "      <td>11410000</td>\n",
       "      <td>7420</td>\n",
       "      <td>4</td>\n",
       "      <td>1</td>\n",
       "      <td>2</td>\n",
       "      <td>yes</td>\n",
       "      <td>yes</td>\n",
       "      <td>yes</td>\n",
       "      <td>no</td>\n",
       "      <td>yes</td>\n",
       "      <td>2</td>\n",
       "      <td>no</td>\n",
       "      <td>furnished</td>\n",
       "    </tr>\n",
       "  </tbody>\n",
       "</table>\n",
       "</div>"
      ],
      "text/plain": [
       "      price  area  bedrooms  bathrooms  stories mainroad guestroom basement  \\\n",
       "0  13300000  7420         4          2        3      yes        no       no   \n",
       "1  12250000  8960         4          4        4      yes        no       no   \n",
       "2  12250000  9960         3          2        2      yes        no      yes   \n",
       "3  12215000  7500         4          2        2      yes        no      yes   \n",
       "4  11410000  7420         4          1        2      yes       yes      yes   \n",
       "\n",
       "  hotwaterheating airconditioning  parking prefarea furnishingstatus  \n",
       "0              no             yes        2      yes        furnished  \n",
       "1              no             yes        3       no        furnished  \n",
       "2              no              no        2      yes   semi-furnished  \n",
       "3              no             yes        3      yes        furnished  \n",
       "4              no             yes        2       no        furnished  "
      ]
     },
     "execution_count": 3,
     "metadata": {},
     "output_type": "execute_result"
    }
   ],
   "source": [
    "original_house_price = pd.read_csv(r\"D:\\notebook_project\\LILI\\LILI_DATA\\07 数据分析篇\\house_price.csv\", encoding='utf-8')\n",
    "original_house_price.head()"
   ]
  },
  {
   "cell_type": "markdown",
   "id": "6c825764-f578-41a0-b983-cb443037b0d2",
   "metadata": {},
   "source": [
    "## 评估和清理数据"
   ]
  },
  {
   "cell_type": "markdown",
   "id": "c7540b51-5090-47bd-b0fb-16b3605bde84",
   "metadata": {},
   "source": [
    "在这一部分中，我们将对在上一部分建立的`original_house_price`DataFrame所包含的数据进行评估和清理。\n",
    "\n",
    "主要从两个方面进行：结构和内容，即整齐度和干净度。\n",
    "\n",
    "数据的结构性问题指不符合“每个变量为一列，每个观察值为一行，每种类型的观察单位为一个表格”这三个标准；数据的内容性问题包括存在丢失数据、重复数据、无效数据等。"
   ]
  },
  {
   "cell_type": "markdown",
   "id": "76084c0c-da22-46e7-8028-772c153a22d1",
   "metadata": {},
   "source": [
    "为了区分开经过清理的数据和原始的数据，我们创建新的变量`cleaned_house_price`，让它为`original_house_price`复制出的副本。我们之后的清理步骤都将被运用在`cleaned_house_price`上。"
   ]
  },
  {
   "cell_type": "code",
   "execution_count": 4,
   "id": "07f030bf-9c47-4431-acb5-0f281f99521d",
   "metadata": {},
   "outputs": [],
   "source": [
    "cleaned_house_price = original_house_price.copy()"
   ]
  },
  {
   "cell_type": "markdown",
   "id": "d5195daf-b100-4e17-b8aa-6ca6ba26607a",
   "metadata": {},
   "source": [
    "### 数据整齐度"
   ]
  },
  {
   "cell_type": "code",
   "execution_count": 6,
   "id": "b8693fc8-8730-48cc-b54f-78b3c01e9a7a",
   "metadata": {},
   "outputs": [
    {
     "data": {
      "text/html": [
       "<div>\n",
       "<style scoped>\n",
       "    .dataframe tbody tr th:only-of-type {\n",
       "        vertical-align: middle;\n",
       "    }\n",
       "\n",
       "    .dataframe tbody tr th {\n",
       "        vertical-align: top;\n",
       "    }\n",
       "\n",
       "    .dataframe thead th {\n",
       "        text-align: right;\n",
       "    }\n",
       "</style>\n",
       "<table border=\"1\" class=\"dataframe\">\n",
       "  <thead>\n",
       "    <tr style=\"text-align: right;\">\n",
       "      <th></th>\n",
       "      <th>price</th>\n",
       "      <th>area</th>\n",
       "      <th>bedrooms</th>\n",
       "      <th>bathrooms</th>\n",
       "      <th>stories</th>\n",
       "      <th>mainroad</th>\n",
       "      <th>guestroom</th>\n",
       "      <th>basement</th>\n",
       "      <th>hotwaterheating</th>\n",
       "      <th>airconditioning</th>\n",
       "      <th>parking</th>\n",
       "      <th>prefarea</th>\n",
       "      <th>furnishingstatus</th>\n",
       "    </tr>\n",
       "  </thead>\n",
       "  <tbody>\n",
       "    <tr>\n",
       "      <th>0</th>\n",
       "      <td>13300000</td>\n",
       "      <td>7420</td>\n",
       "      <td>4</td>\n",
       "      <td>2</td>\n",
       "      <td>3</td>\n",
       "      <td>yes</td>\n",
       "      <td>no</td>\n",
       "      <td>no</td>\n",
       "      <td>no</td>\n",
       "      <td>yes</td>\n",
       "      <td>2</td>\n",
       "      <td>yes</td>\n",
       "      <td>furnished</td>\n",
       "    </tr>\n",
       "    <tr>\n",
       "      <th>1</th>\n",
       "      <td>12250000</td>\n",
       "      <td>8960</td>\n",
       "      <td>4</td>\n",
       "      <td>4</td>\n",
       "      <td>4</td>\n",
       "      <td>yes</td>\n",
       "      <td>no</td>\n",
       "      <td>no</td>\n",
       "      <td>no</td>\n",
       "      <td>yes</td>\n",
       "      <td>3</td>\n",
       "      <td>no</td>\n",
       "      <td>furnished</td>\n",
       "    </tr>\n",
       "    <tr>\n",
       "      <th>2</th>\n",
       "      <td>12250000</td>\n",
       "      <td>9960</td>\n",
       "      <td>3</td>\n",
       "      <td>2</td>\n",
       "      <td>2</td>\n",
       "      <td>yes</td>\n",
       "      <td>no</td>\n",
       "      <td>yes</td>\n",
       "      <td>no</td>\n",
       "      <td>no</td>\n",
       "      <td>2</td>\n",
       "      <td>yes</td>\n",
       "      <td>semi-furnished</td>\n",
       "    </tr>\n",
       "    <tr>\n",
       "      <th>3</th>\n",
       "      <td>12215000</td>\n",
       "      <td>7500</td>\n",
       "      <td>4</td>\n",
       "      <td>2</td>\n",
       "      <td>2</td>\n",
       "      <td>yes</td>\n",
       "      <td>no</td>\n",
       "      <td>yes</td>\n",
       "      <td>no</td>\n",
       "      <td>yes</td>\n",
       "      <td>3</td>\n",
       "      <td>yes</td>\n",
       "      <td>furnished</td>\n",
       "    </tr>\n",
       "    <tr>\n",
       "      <th>4</th>\n",
       "      <td>11410000</td>\n",
       "      <td>7420</td>\n",
       "      <td>4</td>\n",
       "      <td>1</td>\n",
       "      <td>2</td>\n",
       "      <td>yes</td>\n",
       "      <td>yes</td>\n",
       "      <td>yes</td>\n",
       "      <td>no</td>\n",
       "      <td>yes</td>\n",
       "      <td>2</td>\n",
       "      <td>no</td>\n",
       "      <td>furnished</td>\n",
       "    </tr>\n",
       "    <tr>\n",
       "      <th>5</th>\n",
       "      <td>10850000</td>\n",
       "      <td>7500</td>\n",
       "      <td>3</td>\n",
       "      <td>3</td>\n",
       "      <td>1</td>\n",
       "      <td>yes</td>\n",
       "      <td>no</td>\n",
       "      <td>yes</td>\n",
       "      <td>no</td>\n",
       "      <td>yes</td>\n",
       "      <td>2</td>\n",
       "      <td>yes</td>\n",
       "      <td>semi-furnished</td>\n",
       "    </tr>\n",
       "    <tr>\n",
       "      <th>6</th>\n",
       "      <td>10150000</td>\n",
       "      <td>8580</td>\n",
       "      <td>4</td>\n",
       "      <td>3</td>\n",
       "      <td>4</td>\n",
       "      <td>yes</td>\n",
       "      <td>no</td>\n",
       "      <td>no</td>\n",
       "      <td>no</td>\n",
       "      <td>yes</td>\n",
       "      <td>2</td>\n",
       "      <td>yes</td>\n",
       "      <td>semi-furnished</td>\n",
       "    </tr>\n",
       "    <tr>\n",
       "      <th>7</th>\n",
       "      <td>10150000</td>\n",
       "      <td>16200</td>\n",
       "      <td>5</td>\n",
       "      <td>3</td>\n",
       "      <td>2</td>\n",
       "      <td>yes</td>\n",
       "      <td>no</td>\n",
       "      <td>no</td>\n",
       "      <td>no</td>\n",
       "      <td>no</td>\n",
       "      <td>0</td>\n",
       "      <td>no</td>\n",
       "      <td>unfurnished</td>\n",
       "    </tr>\n",
       "    <tr>\n",
       "      <th>8</th>\n",
       "      <td>9870000</td>\n",
       "      <td>8100</td>\n",
       "      <td>4</td>\n",
       "      <td>1</td>\n",
       "      <td>2</td>\n",
       "      <td>yes</td>\n",
       "      <td>yes</td>\n",
       "      <td>yes</td>\n",
       "      <td>no</td>\n",
       "      <td>yes</td>\n",
       "      <td>2</td>\n",
       "      <td>yes</td>\n",
       "      <td>furnished</td>\n",
       "    </tr>\n",
       "    <tr>\n",
       "      <th>9</th>\n",
       "      <td>9800000</td>\n",
       "      <td>5750</td>\n",
       "      <td>3</td>\n",
       "      <td>2</td>\n",
       "      <td>4</td>\n",
       "      <td>yes</td>\n",
       "      <td>yes</td>\n",
       "      <td>no</td>\n",
       "      <td>no</td>\n",
       "      <td>yes</td>\n",
       "      <td>1</td>\n",
       "      <td>yes</td>\n",
       "      <td>unfurnished</td>\n",
       "    </tr>\n",
       "  </tbody>\n",
       "</table>\n",
       "</div>"
      ],
      "text/plain": [
       "      price   area  bedrooms  bathrooms  stories mainroad guestroom basement  \\\n",
       "0  13300000   7420         4          2        3      yes        no       no   \n",
       "1  12250000   8960         4          4        4      yes        no       no   \n",
       "2  12250000   9960         3          2        2      yes        no      yes   \n",
       "3  12215000   7500         4          2        2      yes        no      yes   \n",
       "4  11410000   7420         4          1        2      yes       yes      yes   \n",
       "5  10850000   7500         3          3        1      yes        no      yes   \n",
       "6  10150000   8580         4          3        4      yes        no       no   \n",
       "7  10150000  16200         5          3        2      yes        no       no   \n",
       "8   9870000   8100         4          1        2      yes       yes      yes   \n",
       "9   9800000   5750         3          2        4      yes       yes       no   \n",
       "\n",
       "  hotwaterheating airconditioning  parking prefarea furnishingstatus  \n",
       "0              no             yes        2      yes        furnished  \n",
       "1              no             yes        3       no        furnished  \n",
       "2              no              no        2      yes   semi-furnished  \n",
       "3              no             yes        3      yes        furnished  \n",
       "4              no             yes        2       no        furnished  \n",
       "5              no             yes        2      yes   semi-furnished  \n",
       "6              no             yes        2      yes   semi-furnished  \n",
       "7              no              no        0       no      unfurnished  \n",
       "8              no             yes        2      yes        furnished  \n",
       "9              no             yes        1      yes      unfurnished  "
      ]
     },
     "execution_count": 6,
     "metadata": {},
     "output_type": "execute_result"
    }
   ],
   "source": [
    "cleaned_house_price.head(10)"
   ]
  },
  {
   "cell_type": "markdown",
   "id": "0fc75f30-eefe-4417-8527-1a5ead3e6ffe",
   "metadata": {},
   "source": [
    "从头部的10行数据来看，数据符合“每个变量为一列，每个观察值为一行，每种类型的观察单位为一个表格”，因此不存在结构性问题。"
   ]
  },
  {
   "cell_type": "markdown",
   "id": "153e201b-2cee-421f-b200-d3cf2015dc0c",
   "metadata": {},
   "source": [
    "### 数据干净度"
   ]
  },
  {
   "cell_type": "markdown",
   "id": "f893322e-c72a-4120-86ca-150ca6706ff1",
   "metadata": {},
   "source": [
    "接下来通过`info`，对数据内容进行大致了解。"
   ]
  },
  {
   "cell_type": "code",
   "execution_count": 7,
   "id": "80ded5aa-9153-49ce-a818-3902326c173a",
   "metadata": {},
   "outputs": [
    {
     "name": "stdout",
     "output_type": "stream",
     "text": [
      "<class 'pandas.core.frame.DataFrame'>\n",
      "RangeIndex: 545 entries, 0 to 544\n",
      "Data columns (total 13 columns):\n",
      " #   Column            Non-Null Count  Dtype \n",
      "---  ------            --------------  ----- \n",
      " 0   price             545 non-null    int64 \n",
      " 1   area              545 non-null    int64 \n",
      " 2   bedrooms          545 non-null    int64 \n",
      " 3   bathrooms         545 non-null    int64 \n",
      " 4   stories           545 non-null    int64 \n",
      " 5   mainroad          545 non-null    object\n",
      " 6   guestroom         545 non-null    object\n",
      " 7   basement          545 non-null    object\n",
      " 8   hotwaterheating   545 non-null    object\n",
      " 9   airconditioning   545 non-null    object\n",
      " 10  parking           545 non-null    int64 \n",
      " 11  prefarea          545 non-null    object\n",
      " 12  furnishingstatus  545 non-null    object\n",
      "dtypes: int64(6), object(7)\n",
      "memory usage: 55.5+ KB\n"
     ]
    }
   ],
   "source": [
    "cleaned_house_price.info()"
   ]
  },
  {
   "cell_type": "markdown",
   "id": "666b4493-f8cb-4fc1-be08-a25e11da1c49",
   "metadata": {},
   "source": [
    "从输出结果来看，`cleaned_house_price`共有545条观察值，变量不存在缺失值。\n",
    "\n",
    "数据类型方面，我们已知`mainroad`（是否位于主路）、`guestroom`（是否有客房）、`basement`（是否有地下室）、`hotwaterheating`（是否有热水器）、`airconditioning`（是否有空调）、`prefarea`（是否位于城市首选社区）、`furnishingstatus`（装修状态）都是分类数据，可以把数据类型都转换为Category。"
   ]
  },
  {
   "cell_type": "code",
   "execution_count": 5,
   "id": "28a3f347-ac8f-4a37-bf05-2551394ce053",
   "metadata": {},
   "outputs": [],
   "source": [
    "cleaned_house_price['mainroad'] = cleaned_house_price['mainroad'].astype(\"category\")\n",
    "cleaned_house_price['guestroom'] = cleaned_house_price['guestroom'].astype(\"category\")\n",
    "cleaned_house_price['basement'] = cleaned_house_price['basement'].astype(\"category\")\n",
    "cleaned_house_price['hotwaterheating'] = cleaned_house_price['hotwaterheating'].astype(\"category\")\n",
    "cleaned_house_price['airconditioning'] = cleaned_house_price['airconditioning'].astype(\"category\")\n",
    "cleaned_house_price['prefarea'] = cleaned_house_price['prefarea'].astype(\"category\")\n",
    "cleaned_house_price['furnishingstatus'] = cleaned_house_price['furnishingstatus'].astype(\"category\")"
   ]
  },
  {
   "cell_type": "code",
   "execution_count": 6,
   "id": "103364de-f7ce-4572-b385-f015a51ac8c1",
   "metadata": {},
   "outputs": [
    {
     "name": "stdout",
     "output_type": "stream",
     "text": [
      "<class 'pandas.core.frame.DataFrame'>\n",
      "RangeIndex: 545 entries, 0 to 544\n",
      "Data columns (total 13 columns):\n",
      " #   Column            Non-Null Count  Dtype   \n",
      "---  ------            --------------  -----   \n",
      " 0   price             545 non-null    int64   \n",
      " 1   area              545 non-null    int64   \n",
      " 2   bedrooms          545 non-null    int64   \n",
      " 3   bathrooms         545 non-null    int64   \n",
      " 4   stories           545 non-null    int64   \n",
      " 5   mainroad          545 non-null    category\n",
      " 6   guestroom         545 non-null    category\n",
      " 7   basement          545 non-null    category\n",
      " 8   hotwaterheating   545 non-null    category\n",
      " 9   airconditioning   545 non-null    category\n",
      " 10  parking           545 non-null    int64   \n",
      " 11  prefarea          545 non-null    category\n",
      " 12  furnishingstatus  545 non-null    category\n",
      "dtypes: category(7), int64(6)\n",
      "memory usage: 30.3 KB\n"
     ]
    }
   ],
   "source": [
    "cleaned_house_price.info()"
   ]
  },
  {
   "cell_type": "markdown",
   "id": "816f66fc-febd-47ce-9abf-0f7bd1a9e323",
   "metadata": {},
   "source": [
    "#### 处理缺失数据"
   ]
  },
  {
   "cell_type": "markdown",
   "id": "cba23c51-8690-4ce1-a130-0c9e5ec20b6b",
   "metadata": {},
   "source": [
    "从`info`方法的输出结果来看，`cleaned_house_price`不存在缺失值，因此不需要对缺失数据进行处理。"
   ]
  },
  {
   "cell_type": "markdown",
   "id": "44c4e327-4a2a-42e4-95cc-4c522eac472b",
   "metadata": {},
   "source": [
    "#### 处理重复数据"
   ]
  },
  {
   "cell_type": "markdown",
   "id": "da184b81-9f17-431e-a0de-4bacd26fb184",
   "metadata": {},
   "source": [
    "不一致数据可能存在于所有分类变量中，我们要查看是否存在不同值实际指代同一目标的情况。"
   ]
  },
  {
   "cell_type": "code",
   "execution_count": 10,
   "id": "4140decb-c374-4576-a0b9-ae99f9c52a2e",
   "metadata": {},
   "outputs": [
    {
     "data": {
      "text/plain": [
       "mainroad\n",
       "yes    468\n",
       "no      77\n",
       "Name: count, dtype: int64"
      ]
     },
     "execution_count": 10,
     "metadata": {},
     "output_type": "execute_result"
    }
   ],
   "source": [
    "cleaned_house_price['mainroad'].value_counts()"
   ]
  },
  {
   "cell_type": "code",
   "execution_count": 11,
   "id": "a46d6e96-75bd-4130-9c5d-f38e7e948e4a",
   "metadata": {},
   "outputs": [
    {
     "data": {
      "text/plain": [
       "guestroom\n",
       "no     448\n",
       "yes     97\n",
       "Name: count, dtype: int64"
      ]
     },
     "execution_count": 11,
     "metadata": {},
     "output_type": "execute_result"
    }
   ],
   "source": [
    "cleaned_house_price['guestroom'].value_counts()"
   ]
  },
  {
   "cell_type": "code",
   "execution_count": 12,
   "id": "89d26a3b-27e1-4a8d-acf4-9da7410db012",
   "metadata": {},
   "outputs": [
    {
     "data": {
      "text/plain": [
       "basement\n",
       "no     354\n",
       "yes    191\n",
       "Name: count, dtype: int64"
      ]
     },
     "execution_count": 12,
     "metadata": {},
     "output_type": "execute_result"
    }
   ],
   "source": [
    "cleaned_house_price['basement'].value_counts()"
   ]
  },
  {
   "cell_type": "code",
   "execution_count": 13,
   "id": "7dc13c56-e186-4528-89cc-d5bcfd2cf41d",
   "metadata": {},
   "outputs": [
    {
     "data": {
      "text/plain": [
       "hotwaterheating\n",
       "no     520\n",
       "yes     25\n",
       "Name: count, dtype: int64"
      ]
     },
     "execution_count": 13,
     "metadata": {},
     "output_type": "execute_result"
    }
   ],
   "source": [
    "cleaned_house_price['hotwaterheating'].value_counts()"
   ]
  },
  {
   "cell_type": "code",
   "execution_count": 14,
   "id": "eaa473bf-de32-4cf1-bb93-88bbb8ef7237",
   "metadata": {},
   "outputs": [
    {
     "data": {
      "text/plain": [
       "airconditioning\n",
       "no     373\n",
       "yes    172\n",
       "Name: count, dtype: int64"
      ]
     },
     "execution_count": 14,
     "metadata": {},
     "output_type": "execute_result"
    }
   ],
   "source": [
    "cleaned_house_price['airconditioning'].value_counts()"
   ]
  },
  {
   "cell_type": "code",
   "execution_count": 15,
   "id": "4a422d9b-817b-484f-9711-abdbc0161841",
   "metadata": {},
   "outputs": [
    {
     "data": {
      "text/plain": [
       "prefarea\n",
       "no     417\n",
       "yes    128\n",
       "Name: count, dtype: int64"
      ]
     },
     "execution_count": 15,
     "metadata": {},
     "output_type": "execute_result"
    }
   ],
   "source": [
    "cleaned_house_price['prefarea'].value_counts()"
   ]
  },
  {
   "cell_type": "code",
   "execution_count": 16,
   "id": "0112dd6f-2ae9-472b-a30c-d07abb945a96",
   "metadata": {},
   "outputs": [
    {
     "data": {
      "text/plain": [
       "furnishingstatus\n",
       "semi-furnished    227\n",
       "unfurnished       178\n",
       "furnished         140\n",
       "Name: count, dtype: int64"
      ]
     },
     "execution_count": 16,
     "metadata": {},
     "output_type": "execute_result"
    }
   ],
   "source": [
    "cleaned_house_price['furnishingstatus'].value_counts()"
   ]
  },
  {
   "cell_type": "markdown",
   "id": "9b52c20f-77b4-4292-8b0c-2ec2812dd466",
   "metadata": {},
   "source": [
    "从以上输出结果来看，均不存在不一致数据。"
   ]
  },
  {
   "cell_type": "markdown",
   "id": "a36c58f7-09c0-4d17-a920-f0e92801b156",
   "metadata": {},
   "source": [
    "#### 处理无效或错误数据"
   ]
  },
  {
   "cell_type": "markdown",
   "id": "19c57d0c-4188-47be-8476-a80b1c42fedd",
   "metadata": {},
   "source": [
    "可以通过DataFrame的`describe`方法，对数值统计信息进行快速了解。"
   ]
  },
  {
   "cell_type": "code",
   "execution_count": 17,
   "id": "db83d2ed-bb18-451a-ac18-bab592087b46",
   "metadata": {},
   "outputs": [
    {
     "data": {
      "text/html": [
       "<div>\n",
       "<style scoped>\n",
       "    .dataframe tbody tr th:only-of-type {\n",
       "        vertical-align: middle;\n",
       "    }\n",
       "\n",
       "    .dataframe tbody tr th {\n",
       "        vertical-align: top;\n",
       "    }\n",
       "\n",
       "    .dataframe thead th {\n",
       "        text-align: right;\n",
       "    }\n",
       "</style>\n",
       "<table border=\"1\" class=\"dataframe\">\n",
       "  <thead>\n",
       "    <tr style=\"text-align: right;\">\n",
       "      <th></th>\n",
       "      <th>price</th>\n",
       "      <th>area</th>\n",
       "      <th>bedrooms</th>\n",
       "      <th>bathrooms</th>\n",
       "      <th>stories</th>\n",
       "      <th>parking</th>\n",
       "    </tr>\n",
       "  </thead>\n",
       "  <tbody>\n",
       "    <tr>\n",
       "      <th>count</th>\n",
       "      <td>5.450000e+02</td>\n",
       "      <td>545.000000</td>\n",
       "      <td>545.000000</td>\n",
       "      <td>545.000000</td>\n",
       "      <td>545.000000</td>\n",
       "      <td>545.000000</td>\n",
       "    </tr>\n",
       "    <tr>\n",
       "      <th>mean</th>\n",
       "      <td>4.766729e+06</td>\n",
       "      <td>5150.541284</td>\n",
       "      <td>2.965138</td>\n",
       "      <td>1.286239</td>\n",
       "      <td>1.805505</td>\n",
       "      <td>0.693578</td>\n",
       "    </tr>\n",
       "    <tr>\n",
       "      <th>std</th>\n",
       "      <td>1.870440e+06</td>\n",
       "      <td>2170.141023</td>\n",
       "      <td>0.738064</td>\n",
       "      <td>0.502470</td>\n",
       "      <td>0.867492</td>\n",
       "      <td>0.861586</td>\n",
       "    </tr>\n",
       "    <tr>\n",
       "      <th>min</th>\n",
       "      <td>1.750000e+06</td>\n",
       "      <td>1650.000000</td>\n",
       "      <td>1.000000</td>\n",
       "      <td>1.000000</td>\n",
       "      <td>1.000000</td>\n",
       "      <td>0.000000</td>\n",
       "    </tr>\n",
       "    <tr>\n",
       "      <th>25%</th>\n",
       "      <td>3.430000e+06</td>\n",
       "      <td>3600.000000</td>\n",
       "      <td>2.000000</td>\n",
       "      <td>1.000000</td>\n",
       "      <td>1.000000</td>\n",
       "      <td>0.000000</td>\n",
       "    </tr>\n",
       "    <tr>\n",
       "      <th>50%</th>\n",
       "      <td>4.340000e+06</td>\n",
       "      <td>4600.000000</td>\n",
       "      <td>3.000000</td>\n",
       "      <td>1.000000</td>\n",
       "      <td>2.000000</td>\n",
       "      <td>0.000000</td>\n",
       "    </tr>\n",
       "    <tr>\n",
       "      <th>75%</th>\n",
       "      <td>5.740000e+06</td>\n",
       "      <td>6360.000000</td>\n",
       "      <td>3.000000</td>\n",
       "      <td>2.000000</td>\n",
       "      <td>2.000000</td>\n",
       "      <td>1.000000</td>\n",
       "    </tr>\n",
       "    <tr>\n",
       "      <th>max</th>\n",
       "      <td>1.330000e+07</td>\n",
       "      <td>16200.000000</td>\n",
       "      <td>6.000000</td>\n",
       "      <td>4.000000</td>\n",
       "      <td>4.000000</td>\n",
       "      <td>3.000000</td>\n",
       "    </tr>\n",
       "  </tbody>\n",
       "</table>\n",
       "</div>"
      ],
      "text/plain": [
       "              price          area    bedrooms   bathrooms     stories  \\\n",
       "count  5.450000e+02    545.000000  545.000000  545.000000  545.000000   \n",
       "mean   4.766729e+06   5150.541284    2.965138    1.286239    1.805505   \n",
       "std    1.870440e+06   2170.141023    0.738064    0.502470    0.867492   \n",
       "min    1.750000e+06   1650.000000    1.000000    1.000000    1.000000   \n",
       "25%    3.430000e+06   3600.000000    2.000000    1.000000    1.000000   \n",
       "50%    4.340000e+06   4600.000000    3.000000    1.000000    2.000000   \n",
       "75%    5.740000e+06   6360.000000    3.000000    2.000000    2.000000   \n",
       "max    1.330000e+07  16200.000000    6.000000    4.000000    4.000000   \n",
       "\n",
       "          parking  \n",
       "count  545.000000  \n",
       "mean     0.693578  \n",
       "std      0.861586  \n",
       "min      0.000000  \n",
       "25%      0.000000  \n",
       "50%      0.000000  \n",
       "75%      1.000000  \n",
       "max      3.000000  "
      ]
     },
     "execution_count": 17,
     "metadata": {},
     "output_type": "execute_result"
    }
   ],
   "source": [
    "cleaned_house_price.describe()"
   ]
  },
  {
   "cell_type": "markdown",
   "id": "d5ef7452-49e3-4894-ae10-0561fc6c6887",
   "metadata": {},
   "source": [
    "从以上统计信息来看，`cleaned_house_price`里不存在脱离现实意义的数值。"
   ]
  },
  {
   "cell_type": "markdown",
   "id": "add188c3-e0ce-40b3-9a54-310db0119856",
   "metadata": {},
   "source": [
    "## 探索数据"
   ]
  },
  {
   "cell_type": "markdown",
   "id": "8f70b147-88e7-42e4-ae48-d22408dbcac6",
   "metadata": {},
   "source": [
    "在着手推断统计学分析之前，我们可以先借助数据可视化，探索数值变量的分布，以及与房价存在相关性的变量，为后续的进一步分析提供方向。"
   ]
  },
  {
   "cell_type": "code",
   "execution_count": 2,
   "id": "186c20b8-2c72-4bc1-901c-512b76909a34",
   "metadata": {},
   "outputs": [],
   "source": [
    "sns.set_palette(\"pastel\")"
   ]
  },
  {
   "cell_type": "markdown",
   "id": "e2b66525-59c4-443e-a466-bd62de338f4c",
   "metadata": {},
   "source": [
    "### 房价分布"
   ]
  },
  {
   "cell_type": "code",
   "execution_count": 29,
   "id": "e55e8fa4-7e5a-488b-b2c6-07d04e1b2e20",
   "metadata": {},
   "outputs": [
    {
     "data": {
      "image/png": "[encoded data removed]",
      "text/plain": [
       "<Figure size 700x350 with 2 Axes>"
      ]
     },
     "metadata": {},
     "output_type": "display_data"
    }
   ],
   "source": [
    "plt.rcParams['figure.figsize'] = [7.00, 3.50]\n",
    "plt.rcParams['figure.autolayout'] = True\n",
    "figure, axes = plt.subplots(1, 2)\n",
    "sns.histplot(cleaned_house_price, x='price', ax=axes[0])\n",
    "sns.boxplot(cleaned_house_price, y='price', ax=axes[1])\n",
    "plt.show()"
   ]
  },
  {
   "cell_type": "markdown",
   "id": "52fde921-bc39-4c0b-a505-7dcfddbc3588",
   "metadata": {},
   "source": [
    "房价呈右偏态分布，说明数据集中的大多数房子价格中等，但有一些价格很高的极端值，使得均值被拉高。"
   ]
  },
  {
   "cell_type": "markdown",
   "id": "0039e0d8-3133-4a2e-8159-421f646ee309",
   "metadata": {},
   "source": [
    "### 面积分布"
   ]
  },
  {
   "cell_type": "code",
   "execution_count": 30,
   "id": "760ce641-29e9-4bbd-b051-5d9bbf443262",
   "metadata": {},
   "outputs": [
    {
     "data": {
      "image/png": "[encoded data removed]",
      "text/plain": [
       "<Figure size 700x350 with 2 Axes>"
      ]
     },
     "metadata": {},
     "output_type": "display_data"
    }
   ],
   "source": [
    "figure, axes = plt.subplots(1, 2)\n",
    "sns.histplot(cleaned_house_price, x='area', ax=axes[0])\n",
    "sns.boxplot(cleaned_house_price, y='area', ax=axes[1])\n",
    "plt.show()"
   ]
  },
  {
   "cell_type": "markdown",
   "id": "19709912-7f25-4d79-b921-2e0f00bdab8f",
   "metadata": {},
   "source": [
    "面积的分布与房价相似，也呈右偏态分布。"
   ]
  },
  {
   "cell_type": "markdown",
   "id": "07df6501-40f8-4fda-a70a-0d0fe5042cb5",
   "metadata": {},
   "source": [
    "### 房价与面积的关系"
   ]
  },
  {
   "cell_type": "code",
   "execution_count": 31,
   "id": "d89776ee-d727-4294-9280-5e1f4003e606",
   "metadata": {},
   "outputs": [
    {
     "data": {
      "image/png": "[encoded data removed]",
      "text/plain": [
       "<Figure size 700x350 with 1 Axes>"
      ]
     },
     "metadata": {},
     "output_type": "display_data"
    }
   ],
   "source": [
    "sns.scatterplot(cleaned_house_price, x=\"area\", y=\"price\")\n",
    "plt.show()"
   ]
  },
  {
   "cell_type": "markdown",
   "id": "6a6f135e-dd93-4923-8e7e-527c8d5ec81a",
   "metadata": {},
   "source": [
    "从散点图来看，能大致看出一些正相关关系，但关系的强度需要后续通过计算相关性来得到。"
   ]
  },
  {
   "cell_type": "markdown",
   "id": "54c74b3e-5a92-4a46-9425-3759469f9059",
   "metadata": {},
   "source": [
    "### 卧室数与房价"
   ]
  },
  {
   "cell_type": "code",
   "execution_count": 32,
   "id": "bb99876f-d03a-4ab1-970e-d6aac3855ee9",
   "metadata": {},
   "outputs": [
    {
     "data": {
      "image/png": "[encoded data removed]",
      "text/plain": [
       "<Figure size 700x350 with 2 Axes>"
      ]
     },
     "metadata": {},
     "output_type": "display_data"
    }
   ],
   "source": [
    "figure, axes = plt.subplots(1, 2)\n",
    "sns.histplot(cleaned_house_price, x='bedrooms', ax=axes[0])\n",
    "sns.barplot(cleaned_house_price, x='bedrooms', y='price', ax=axes[1])\n",
    "plt.show()"
   ]
  },
  {
   "cell_type": "markdown",
   "id": "4223d952-8c9d-429d-b026-19bf6870ec56",
   "metadata": {},
   "source": [
    "此数据集中房子的卧室数范围为1-6个，其中大多房子有2-4个。\n",
    "\n",
    "从平均房价与卧室数之间的柱状图来看，当卧室数小于5个时，卧室数多的房子价格也相应高，但一旦多于5个，房价并不一定相应更高。"
   ]
  },
  {
   "cell_type": "markdown",
   "id": "edcf4774-551b-4a12-b5a2-d11640857d3e",
   "metadata": {},
   "source": [
    "### 洗手间数与房价"
   ]
  },
  {
   "cell_type": "code",
   "execution_count": 33,
   "id": "03926bce-d1be-4aa4-8331-d260f0164852",
   "metadata": {},
   "outputs": [
    {
     "data": {
      "image/png": "[encoded data removed]",
      "text/plain": [
       "<Figure size 700x350 with 2 Axes>"
      ]
     },
     "metadata": {},
     "output_type": "display_data"
    }
   ],
   "source": [
    "figure, axes = plt.subplots(1, 2)\n",
    "sns.histplot(cleaned_house_price, x='bathrooms', ax=axes[0])\n",
    "sns.barplot(cleaned_house_price, x='bathrooms', y='price', ax=axes[1])\n",
    "plt.show()"
   ]
  },
  {
   "cell_type": "markdown",
   "id": "5db67cb1-e046-4743-a53c-041736a4d83f",
   "metadata": {},
   "source": [
    "数据集中房子洗手间数量最少1个，最多4个，其中为1个的数量最多。\n",
    "\n",
    "从平均房价与洗手间数之间的柱状图来看，洗手间多的房子价格也相应高。"
   ]
  },
  {
   "cell_type": "markdown",
   "id": "7fa3aa90-f920-4256-8e9b-8148c4534660",
   "metadata": {},
   "source": [
    "### 楼层数与房价"
   ]
  },
  {
   "cell_type": "code",
   "execution_count": 34,
   "id": "1e369f37-9eb4-4530-8d91-6f70f6189b2e",
   "metadata": {},
   "outputs": [
    {
     "data": {
      "image/png": "[encoded data removed]",
      "text/plain": [
       "<Figure size 700x350 with 2 Axes>"
      ]
     },
     "metadata": {},
     "output_type": "display_data"
    }
   ],
   "source": [
    "figure, axes = plt.subplots(1, 2)\n",
    "sns.histplot(cleaned_house_price, x='stories', ax=axes[0])\n",
    "sns.barplot(cleaned_house_price, x='stories', y='price', ax=axes[1])\n",
    "plt.show()"
   ]
  },
  {
   "cell_type": "markdown",
   "id": "5675e0ed-abb3-4033-b03c-76bf6987029e",
   "metadata": {},
   "source": [
    "此数据集中房子的楼层数范围为1-4层，其中大多房子有1层或2层。\n",
    "\n",
    "从平均房价与楼层数之间的柱状图来看，楼层多的房子价格也相应高。"
   ]
  },
  {
   "cell_type": "markdown",
   "id": "40926ca4-4e96-4a74-bc96-15d712a17a71",
   "metadata": {},
   "source": [
    "### 车库数与房价"
   ]
  },
  {
   "cell_type": "code",
   "execution_count": 42,
   "id": "404873c8-733c-41cb-9427-b700e661ee98",
   "metadata": {},
   "outputs": [
    {
     "data": {
      "image/png": "[encoded data removed]",
      "text/plain": [
       "<Figure size 700x350 with 2 Axes>"
      ]
     },
     "metadata": {},
     "output_type": "display_data"
    }
   ],
   "source": [
    "figure, axes = plt.subplots(1, 2)\n",
    "sns.histplot(cleaned_house_price, x='parking', ax=axes[0])\n",
    "sns.barplot(cleaned_house_price, x='parking', y='price', ax=axes[1])\n",
    "plt.show()"
   ]
  },
  {
   "cell_type": "markdown",
   "id": "4f005805-46e9-4ee7-ae14-fbbd5896bd26",
   "metadata": {},
   "source": [
    "此数据集中房子的车库数范围为0-3个，不带车库的房子数量是最多的，其次是1个和2个。\n",
    "\n",
    "从平均房价与楼层数之间的柱状图来看，车库多的房子价格也相应高，但超过2个后，房价并不一定相应更高。"
   ]
  },
  {
   "cell_type": "markdown",
   "id": "c4409988-63c8-44c4-98b2-1e916a8eafb3",
   "metadata": {},
   "source": [
    "### 是否在主路与房价"
   ]
  },
  {
   "cell_type": "code",
   "execution_count": 43,
   "id": "a2a08e2f-ebee-4f04-91ce-e43e6748cdb0",
   "metadata": {},
   "outputs": [
    {
     "data": {
      "image/png": "[encoded data removed]",
      "text/plain": [
       "<Figure size 700x350 with 2 Axes>"
      ]
     },
     "metadata": {},
     "output_type": "display_data"
    }
   ],
   "source": [
    "figure, axes = plt.subplots(1, 2)\n",
    "mainroad_count = cleaned_house_price['mainroad'].value_counts()\n",
    "mainroad_label = mainroad_count.index\n",
    "axes[0].pie(mainroad_count, labels=mainroad_label, autopct='%.0f%%')\n",
    "sns.barplot(cleaned_house_price, x='mainroad', y='price', ax=axes[1])\n",
    "plt.show()"
   ]
  },
  {
   "cell_type": "markdown",
   "id": "bbfb5fe5-6563-40a7-8ccb-0ce20febbcd7",
   "metadata": {},
   "source": [
    "此数据集中房子大多数位于主路。\n",
    "\n",
    "从平均房价与楼层数之间的柱状图来看，在主路的的房子价格也相应高。"
   ]
  },
  {
   "cell_type": "markdown",
   "id": "d517abe0-3ab5-44ca-b37e-5f088a5f4897",
   "metadata": {},
   "source": [
    "### 是否有客人房与房价"
   ]
  },
  {
   "cell_type": "code",
   "execution_count": 44,
   "id": "d9be6d88-0ac2-41de-a9ee-4944d26d855e",
   "metadata": {},
   "outputs": [
    {
     "data": {
      "image/png": "[encoded data removed]",
      "text/plain": [
       "<Figure size 700x350 with 2 Axes>"
      ]
     },
     "metadata": {},
     "output_type": "display_data"
    }
   ],
   "source": [
    "figure, axes = plt.subplots(1, 2)\n",
    "guestroom_count = cleaned_house_price['guestroom'].value_counts()\n",
    "guestroom_label = guestroom_count.index\n",
    "axes[0].pie(guestroom_count, labels=guestroom_label, autopct='%.0f%%')\n",
    "sns.barplot(cleaned_house_price, x='guestroom', y='price', ax=axes[1])\n",
    "plt.show()"
   ]
  },
  {
   "cell_type": "markdown",
   "id": "0e345858-668b-4eb1-91e4-e4e9285c8469",
   "metadata": {},
   "source": [
    "此数据集中房子大部分没有客人房。\n",
    "\n",
    "从平均房价与楼层数之间的柱状图来看，有客人房的的房子价格也相应高。"
   ]
  },
  {
   "cell_type": "markdown",
   "id": "7c632fc9-7f37-4c24-b0c0-85d57f291009",
   "metadata": {},
   "source": [
    "### 是否有地下室与房价"
   ]
  },
  {
   "cell_type": "code",
   "execution_count": 7,
   "id": "1aa11591-26d0-4f66-8b40-f4d98c4f7216",
   "metadata": {},
   "outputs": [
    {
     "data": {
      "image/png": "[encoded data removed]",
      "text/plain": [
       "<Figure size 640x480 with 2 Axes>"
      ]
     },
     "metadata": {},
     "output_type": "display_data"
    }
   ],
   "source": [
    "figure, axes = plt.subplots(1, 2)\n",
    "basement_count = cleaned_house_price['basement'].value_counts()\n",
    "basement_label = basement_count.index\n",
    "axes[0].pie(basement_count, labels=basement_label, autopct=\"%.0f%%\")\n",
    "sns.barplot(cleaned_house_price, x='basement', y='price', ax=axes[1])\n",
    "plt.show()"
   ]
  },
  {
   "cell_type": "markdown",
   "id": "d7aa8574-183a-4766-b299-2aa7439c6d16",
   "metadata": {},
   "source": [
    "此数据集中房子绝大部分没有热水器。\n",
    "\n",
    "从平均房价与热水器之间的柱状图来看，有热水器的的房子价格也相应高。"
   ]
  },
  {
   "cell_type": "markdown",
   "id": "76a9114c-72a5-42c0-b3a2-c9c51360c132",
   "metadata": {},
   "source": [
    "### 是否有空调与房价"
   ]
  },
  {
   "cell_type": "code",
   "execution_count": 9,
   "id": "4f7f49b9-d498-4167-8ea6-690c8f0cb31b",
   "metadata": {},
   "outputs": [
    {
     "data": {
      "image/png": "[encoded data removed]",
      "text/plain": [
       "<Figure size 640x480 with 2 Axes>"
      ]
     },
     "metadata": {},
     "output_type": "display_data"
    }
   ],
   "source": [
    "figure, axes = plt.subplots(1, 2)\n",
    "airconditioning_count = cleaned_house_price[\"airconditioning\"].value_counts()\n",
    "airconditioning_label = airconditioning_count.index\n",
    "axes[0].pie(airconditioning_count, labels=airconditioning_label, autopct='%.0f%%')\n",
    "sns.barplot(cleaned_house_price, x='airconditioning', y='price', ax=axes[1])\n",
    "plt.show()"
   ]
  },
  {
   "cell_type": "markdown",
   "id": "72ad7e91-5812-4a58-9ce5-ef22eeb1e182",
   "metadata": {},
   "source": [
    "此数据集中更多的房子没有空调。\n",
    "\n",
    "从平均房价与空调之间的柱状图来看，有空调的的房子价格也相应高。"
   ]
  },
  {
   "cell_type": "markdown",
   "id": "dacd501b-c87d-4a77-909b-6ca320a45db1",
   "metadata": {},
   "source": [
    "### 是否位于城市首选社区与房价"
   ]
  },
  {
   "cell_type": "code",
   "execution_count": 10,
   "id": "e3b3a448-608a-4db7-82a4-639b6ed795e3",
   "metadata": {},
   "outputs": [
    {
     "data": {
      "image/png": "[encoded data removed]",
      "text/plain": [
       "<Figure size 640x480 with 2 Axes>"
      ]
     },
     "metadata": {},
     "output_type": "display_data"
    }
   ],
   "source": [
    "figure, axes = plt.subplots(1, 2)\n",
    "prefarea_count = cleaned_house_price['prefarea'].value_counts()\n",
    "prefarea_label = prefarea_count.index\n",
    "axes[0].pie(prefarea_count, labels=prefarea_label, autopct=\"%.0f%%\")\n",
    "sns.barplot(cleaned_house_price, x='prefarea', y='price', ax=axes[1])\n",
    "plt.show()"
   ]
  },
  {
   "cell_type": "markdown",
   "id": "45ee5be6-9b60-47da-8ca4-fff924c02d63",
   "metadata": {},
   "source": [
    "此数据集中大部分房子不在城市首选社区。\n",
    "\n",
    "从平均房价与城市首选社区之间的柱状图来看，在城市首选社区的的房子价格也相应高。"
   ]
  },
  {
   "cell_type": "markdown",
   "id": "4afff440-6a57-48c0-a9bd-ee7491516fae",
   "metadata": {},
   "source": [
    "### 装修状态与房价"
   ]
  },
  {
   "cell_type": "code",
   "execution_count": 20,
   "id": "a21fd6a3-e487-4cc9-89e1-1a184cf136f2",
   "metadata": {},
   "outputs": [
    {
     "name": "stderr",
     "output_type": "stream",
     "text": [
      "C:\\Users\\m1664\\AppData\\Local\\Temp\\ipykernel_3480\\2470795648.py:10: FutureWarning: \n",
      "\n",
      "Passing `palette` without assigning `hue` is deprecated and will be removed in v0.14.0. Assign the `x` variable to `hue` and set `legend=False` for the same effect.\n",
      "\n",
      "  barplot = sns.barplot(data=cleaned_house_price,\n",
      "C:\\Users\\m1664\\AppData\\Local\\Temp\\ipykernel_3480\\2470795648.py:16: UserWarning: set_ticklabels() should only be used with a fixed number of ticks, i.e. after set_ticks() or using a FixedLocator.\n",
      "  barplot.set_xticklabels(barplot.get_xticklabels(),\n"
     ]
    },
    {
     "data": {
      "image/png": "[encoded data removed]",
      "text/plain": [
       "<Figure size 1200x500 with 2 Axes>"
      ]
     },
     "metadata": {},
     "output_type": "display_data"
    }
   ],
   "source": [
    "figure, axes = plt.subplots(1, 2, figsize=(12, 5))  # 建议增加figsize以便更好地显示\n",
    "\n",
    "# 第一个子图：饼图\n",
    "furnishingstatus_count = cleaned_house_price['furnishingstatus'].value_counts()\n",
    "furnishingstatus_label = furnishingstatus_count.index\n",
    "axes[0].pie(furnishingstatus_count, labels=furnishingstatus_label, autopct=\"%.0f%%\")\n",
    "\n",
    "# 第二个子图：条形图\n",
    "# 修改这里：使用sns的旋转参数而不是手动设置ticklabels\n",
    "barplot = sns.barplot(data=cleaned_house_price, \n",
    "                      x='furnishingstatus', \n",
    "                      y='price', \n",
    "                      ax=axes[1],\n",
    "                      palette=\"plasma\",  # 使用不同的调色板\n",
    "                      dodge=False)  # 防止自动分组\n",
    "barplot.set_xticklabels(barplot.get_xticklabels(), \n",
    "                        rotation=45, \n",
    "                        ha='right')  # 使用ha代替horizontalalignment\n",
    "\n",
    "# 调整布局防止标签重叠\n",
    "plt.tight_layout()\n",
    "plt.show()"
   ]
  },
  {
   "cell_type": "markdown",
   "id": "97c190a7-672c-43d4-a0dc-550846cb0670",
   "metadata": {},
   "source": [
    "此数据集中简装和毛坯的房子较多，1/4左右房子为精装。\n",
    "\n",
    "从平均房价与装修状态之间的柱状图来看，精装的房子价格高于简装，简装高于毛坯。"
   ]
  },
  {
   "cell_type": "markdown",
   "id": "d4547cfb-9ea1-4d7d-9092-83310a213f12",
   "metadata": {},
   "source": [
    "## 分析数据"
   ]
  },
  {
   "cell_type": "markdown",
   "id": "c86cbd6c-93a5-4fbf-927e-5ac60d3f7cbe",
   "metadata": {},
   "source": [
    "在分析步骤中，我们将利用`cleaned_house_price`的数据，进行线性回归分析，目标是得到一个可以根据房屋各个属性对价格进行预测的数学模型。\n",
    "\n",
    "我们先引入做线性回归所需的模块。"
   ]
  },
  {
   "cell_type": "code",
   "execution_count": 31,
   "id": "a58bbbec-08b5-4ad7-acd2-1d0648b25c0f",
   "metadata": {},
   "outputs": [],
   "source": [
    "import statsmodels.api as sm"
   ]
  },
  {
   "cell_type": "markdown",
   "id": "9a9f9968-2b5a-48a0-9066-442e0793953c",
   "metadata": {},
   "source": [
    "然后可以创建一个新的DataFrame`lr_house_price`，让它作为我们进行线性回归分析所用的数据。\n",
    "\n",
    "和`cleaned_house_price`区分开的原因是，我们在进行回归分析前，还可能需要对数据进行一些准备，比如引入虚拟变量，这些都可以在`lr_house_price`上执行。"
   ]
  },
  {
   "cell_type": "code",
   "execution_count": 41,
   "id": "eef80d36-a778-4368-a555-3e74ea3ef499",
   "metadata": {},
   "outputs": [],
   "source": [
    "Ir_house_price = cleaned_house_price.copy()"
   ]
  },
  {
   "cell_type": "code",
   "execution_count": 42,
   "id": "5ee9060e-fc90-49d2-ba46-cdf4a51deff5",
   "metadata": {},
   "outputs": [
    {
     "data": {
      "text/html": [
       "<div>\n",
       "<style scoped>\n",
       "    .dataframe tbody tr th:only-of-type {\n",
       "        vertical-align: middle;\n",
       "    }\n",
       "\n",
       "    .dataframe tbody tr th {\n",
       "        vertical-align: top;\n",
       "    }\n",
       "\n",
       "    .dataframe thead th {\n",
       "        text-align: right;\n",
       "    }\n",
       "</style>\n",
       "<table border=\"1\" class=\"dataframe\">\n",
       "  <thead>\n",
       "    <tr style=\"text-align: right;\">\n",
       "      <th></th>\n",
       "      <th>price</th>\n",
       "      <th>area</th>\n",
       "      <th>bedrooms</th>\n",
       "      <th>bathrooms</th>\n",
       "      <th>stories</th>\n",
       "      <th>mainroad</th>\n",
       "      <th>guestroom</th>\n",
       "      <th>basement</th>\n",
       "      <th>hotwaterheating</th>\n",
       "      <th>airconditioning</th>\n",
       "      <th>parking</th>\n",
       "      <th>prefarea</th>\n",
       "      <th>furnishingstatus</th>\n",
       "    </tr>\n",
       "  </thead>\n",
       "  <tbody>\n",
       "    <tr>\n",
       "      <th>0</th>\n",
       "      <td>13300000</td>\n",
       "      <td>7420</td>\n",
       "      <td>4</td>\n",
       "      <td>2</td>\n",
       "      <td>3</td>\n",
       "      <td>yes</td>\n",
       "      <td>no</td>\n",
       "      <td>no</td>\n",
       "      <td>no</td>\n",
       "      <td>yes</td>\n",
       "      <td>2</td>\n",
       "      <td>yes</td>\n",
       "      <td>furnished</td>\n",
       "    </tr>\n",
       "    <tr>\n",
       "      <th>1</th>\n",
       "      <td>12250000</td>\n",
       "      <td>8960</td>\n",
       "      <td>4</td>\n",
       "      <td>4</td>\n",
       "      <td>4</td>\n",
       "      <td>yes</td>\n",
       "      <td>no</td>\n",
       "      <td>no</td>\n",
       "      <td>no</td>\n",
       "      <td>yes</td>\n",
       "      <td>3</td>\n",
       "      <td>no</td>\n",
       "      <td>furnished</td>\n",
       "    </tr>\n",
       "    <tr>\n",
       "      <th>2</th>\n",
       "      <td>12250000</td>\n",
       "      <td>9960</td>\n",
       "      <td>3</td>\n",
       "      <td>2</td>\n",
       "      <td>2</td>\n",
       "      <td>yes</td>\n",
       "      <td>no</td>\n",
       "      <td>yes</td>\n",
       "      <td>no</td>\n",
       "      <td>no</td>\n",
       "      <td>2</td>\n",
       "      <td>yes</td>\n",
       "      <td>semi-furnished</td>\n",
       "    </tr>\n",
       "    <tr>\n",
       "      <th>3</th>\n",
       "      <td>12215000</td>\n",
       "      <td>7500</td>\n",
       "      <td>4</td>\n",
       "      <td>2</td>\n",
       "      <td>2</td>\n",
       "      <td>yes</td>\n",
       "      <td>no</td>\n",
       "      <td>yes</td>\n",
       "      <td>no</td>\n",
       "      <td>yes</td>\n",
       "      <td>3</td>\n",
       "      <td>yes</td>\n",
       "      <td>furnished</td>\n",
       "    </tr>\n",
       "    <tr>\n",
       "      <th>4</th>\n",
       "      <td>11410000</td>\n",
       "      <td>7420</td>\n",
       "      <td>4</td>\n",
       "      <td>1</td>\n",
       "      <td>2</td>\n",
       "      <td>yes</td>\n",
       "      <td>yes</td>\n",
       "      <td>yes</td>\n",
       "      <td>no</td>\n",
       "      <td>yes</td>\n",
       "      <td>2</td>\n",
       "      <td>no</td>\n",
       "      <td>furnished</td>\n",
       "    </tr>\n",
       "  </tbody>\n",
       "</table>\n",
       "</div>"
      ],
      "text/plain": [
       "      price  area  bedrooms  bathrooms  stories mainroad guestroom basement  \\\n",
       "0  13300000  7420         4          2        3      yes        no       no   \n",
       "1  12250000  8960         4          4        4      yes        no       no   \n",
       "2  12250000  9960         3          2        2      yes        no      yes   \n",
       "3  12215000  7500         4          2        2      yes        no      yes   \n",
       "4  11410000  7420         4          1        2      yes       yes      yes   \n",
       "\n",
       "  hotwaterheating airconditioning  parking prefarea furnishingstatus  \n",
       "0              no             yes        2      yes        furnished  \n",
       "1              no             yes        3       no        furnished  \n",
       "2              no              no        2      yes   semi-furnished  \n",
       "3              no             yes        3      yes        furnished  \n",
       "4              no             yes        2       no        furnished  "
      ]
     },
     "execution_count": 42,
     "metadata": {},
     "output_type": "execute_result"
    }
   ],
   "source": [
    "Ir_house_price.head()"
   ]
  },
  {
   "cell_type": "code",
   "execution_count": 43,
   "id": "4bf2cff5-6531-4609-94cc-119b75666021",
   "metadata": {},
   "outputs": [
    {
     "name": "stdout",
     "output_type": "stream",
     "text": [
      "<class 'pandas.core.frame.DataFrame'>\n",
      "RangeIndex: 545 entries, 0 to 544\n",
      "Data columns (total 13 columns):\n",
      " #   Column            Non-Null Count  Dtype   \n",
      "---  ------            --------------  -----   \n",
      " 0   price             545 non-null    int64   \n",
      " 1   area              545 non-null    int64   \n",
      " 2   bedrooms          545 non-null    int64   \n",
      " 3   bathrooms         545 non-null    int64   \n",
      " 4   stories           545 non-null    int64   \n",
      " 5   mainroad          545 non-null    category\n",
      " 6   guestroom         545 non-null    category\n",
      " 7   basement          545 non-null    category\n",
      " 8   hotwaterheating   545 non-null    category\n",
      " 9   airconditioning   545 non-null    category\n",
      " 10  parking           545 non-null    int64   \n",
      " 11  prefarea          545 non-null    category\n",
      " 12  furnishingstatus  545 non-null    category\n",
      "dtypes: category(7), int64(6)\n",
      "memory usage: 30.3 KB\n"
     ]
    }
   ],
   "source": [
    "Ir_house_price.info()"
   ]
  },
  {
   "cell_type": "markdown",
   "id": "ce35a676-1a3a-40f5-91c5-6a82bfd04d10",
   "metadata": {},
   "source": [
    "由于数据里存在分类变量，无法直接建立线性回归模型。我们需要引入虚拟变量，也就是用0和1分别表示是否属于该分类。"
   ]
  },
  {
   "cell_type": "code",
   "execution_count": 44,
   "id": "042e6afb-bb4e-46af-9523-10743fa84368",
   "metadata": {},
   "outputs": [
    {
     "data": {
      "text/html": [
       "<div>\n",
       "<style scoped>\n",
       "    .dataframe tbody tr th:only-of-type {\n",
       "        vertical-align: middle;\n",
       "    }\n",
       "\n",
       "    .dataframe tbody tr th {\n",
       "        vertical-align: top;\n",
       "    }\n",
       "\n",
       "    .dataframe thead th {\n",
       "        text-align: right;\n",
       "    }\n",
       "</style>\n",
       "<table border=\"1\" class=\"dataframe\">\n",
       "  <thead>\n",
       "    <tr style=\"text-align: right;\">\n",
       "      <th></th>\n",
       "      <th>price</th>\n",
       "      <th>area</th>\n",
       "      <th>bedrooms</th>\n",
       "      <th>bathrooms</th>\n",
       "      <th>stories</th>\n",
       "      <th>parking</th>\n",
       "      <th>mainroad_yes</th>\n",
       "      <th>guestroom_yes</th>\n",
       "      <th>basement_yes</th>\n",
       "      <th>hotwaterheating_yes</th>\n",
       "      <th>airconditioning_yes</th>\n",
       "      <th>prefarea_yes</th>\n",
       "      <th>furnishingstatus_semi-furnished</th>\n",
       "      <th>furnishingstatus_unfurnished</th>\n",
       "    </tr>\n",
       "  </thead>\n",
       "  <tbody>\n",
       "    <tr>\n",
       "      <th>0</th>\n",
       "      <td>13300000</td>\n",
       "      <td>7420</td>\n",
       "      <td>4</td>\n",
       "      <td>2</td>\n",
       "      <td>3</td>\n",
       "      <td>2</td>\n",
       "      <td>1</td>\n",
       "      <td>0</td>\n",
       "      <td>0</td>\n",
       "      <td>0</td>\n",
       "      <td>1</td>\n",
       "      <td>1</td>\n",
       "      <td>0</td>\n",
       "      <td>0</td>\n",
       "    </tr>\n",
       "    <tr>\n",
       "      <th>1</th>\n",
       "      <td>12250000</td>\n",
       "      <td>8960</td>\n",
       "      <td>4</td>\n",
       "      <td>4</td>\n",
       "      <td>4</td>\n",
       "      <td>3</td>\n",
       "      <td>1</td>\n",
       "      <td>0</td>\n",
       "      <td>0</td>\n",
       "      <td>0</td>\n",
       "      <td>1</td>\n",
       "      <td>0</td>\n",
       "      <td>0</td>\n",
       "      <td>0</td>\n",
       "    </tr>\n",
       "    <tr>\n",
       "      <th>2</th>\n",
       "      <td>12250000</td>\n",
       "      <td>9960</td>\n",
       "      <td>3</td>\n",
       "      <td>2</td>\n",
       "      <td>2</td>\n",
       "      <td>2</td>\n",
       "      <td>1</td>\n",
       "      <td>0</td>\n",
       "      <td>1</td>\n",
       "      <td>0</td>\n",
       "      <td>0</td>\n",
       "      <td>1</td>\n",
       "      <td>1</td>\n",
       "      <td>0</td>\n",
       "    </tr>\n",
       "    <tr>\n",
       "      <th>3</th>\n",
       "      <td>12215000</td>\n",
       "      <td>7500</td>\n",
       "      <td>4</td>\n",
       "      <td>2</td>\n",
       "      <td>2</td>\n",
       "      <td>3</td>\n",
       "      <td>1</td>\n",
       "      <td>0</td>\n",
       "      <td>1</td>\n",
       "      <td>0</td>\n",
       "      <td>1</td>\n",
       "      <td>1</td>\n",
       "      <td>0</td>\n",
       "      <td>0</td>\n",
       "    </tr>\n",
       "    <tr>\n",
       "      <th>4</th>\n",
       "      <td>11410000</td>\n",
       "      <td>7420</td>\n",
       "      <td>4</td>\n",
       "      <td>1</td>\n",
       "      <td>2</td>\n",
       "      <td>2</td>\n",
       "      <td>1</td>\n",
       "      <td>1</td>\n",
       "      <td>1</td>\n",
       "      <td>0</td>\n",
       "      <td>1</td>\n",
       "      <td>0</td>\n",
       "      <td>0</td>\n",
       "      <td>0</td>\n",
       "    </tr>\n",
       "    <tr>\n",
       "      <th>...</th>\n",
       "      <td>...</td>\n",
       "      <td>...</td>\n",
       "      <td>...</td>\n",
       "      <td>...</td>\n",
       "      <td>...</td>\n",
       "      <td>...</td>\n",
       "      <td>...</td>\n",
       "      <td>...</td>\n",
       "      <td>...</td>\n",
       "      <td>...</td>\n",
       "      <td>...</td>\n",
       "      <td>...</td>\n",
       "      <td>...</td>\n",
       "      <td>...</td>\n",
       "    </tr>\n",
       "    <tr>\n",
       "      <th>540</th>\n",
       "      <td>1820000</td>\n",
       "      <td>3000</td>\n",
       "      <td>2</td>\n",
       "      <td>1</td>\n",
       "      <td>1</td>\n",
       "      <td>2</td>\n",
       "      <td>1</td>\n",
       "      <td>0</td>\n",
       "      <td>1</td>\n",
       "      <td>0</td>\n",
       "      <td>0</td>\n",
       "      <td>0</td>\n",
       "      <td>0</td>\n",
       "      <td>1</td>\n",
       "    </tr>\n",
       "    <tr>\n",
       "      <th>541</th>\n",
       "      <td>1767150</td>\n",
       "      <td>2400</td>\n",
       "      <td>3</td>\n",
       "      <td>1</td>\n",
       "      <td>1</td>\n",
       "      <td>0</td>\n",
       "      <td>0</td>\n",
       "      <td>0</td>\n",
       "      <td>0</td>\n",
       "      <td>0</td>\n",
       "      <td>0</td>\n",
       "      <td>0</td>\n",
       "      <td>1</td>\n",
       "      <td>0</td>\n",
       "    </tr>\n",
       "    <tr>\n",
       "      <th>542</th>\n",
       "      <td>1750000</td>\n",
       "      <td>3620</td>\n",
       "      <td>2</td>\n",
       "      <td>1</td>\n",
       "      <td>1</td>\n",
       "      <td>0</td>\n",
       "      <td>1</td>\n",
       "      <td>0</td>\n",
       "      <td>0</td>\n",
       "      <td>0</td>\n",
       "      <td>0</td>\n",
       "      <td>0</td>\n",
       "      <td>0</td>\n",
       "      <td>1</td>\n",
       "    </tr>\n",
       "    <tr>\n",
       "      <th>543</th>\n",
       "      <td>1750000</td>\n",
       "      <td>2910</td>\n",
       "      <td>3</td>\n",
       "      <td>1</td>\n",
       "      <td>1</td>\n",
       "      <td>0</td>\n",
       "      <td>0</td>\n",
       "      <td>0</td>\n",
       "      <td>0</td>\n",
       "      <td>0</td>\n",
       "      <td>0</td>\n",
       "      <td>0</td>\n",
       "      <td>0</td>\n",
       "      <td>0</td>\n",
       "    </tr>\n",
       "    <tr>\n",
       "      <th>544</th>\n",
       "      <td>1750000</td>\n",
       "      <td>3850</td>\n",
       "      <td>3</td>\n",
       "      <td>1</td>\n",
       "      <td>2</td>\n",
       "      <td>0</td>\n",
       "      <td>1</td>\n",
       "      <td>0</td>\n",
       "      <td>0</td>\n",
       "      <td>0</td>\n",
       "      <td>0</td>\n",
       "      <td>0</td>\n",
       "      <td>0</td>\n",
       "      <td>1</td>\n",
       "    </tr>\n",
       "  </tbody>\n",
       "</table>\n",
       "<p>545 rows × 14 columns</p>\n",
       "</div>"
      ],
      "text/plain": [
       "        price  area  bedrooms  bathrooms  stories  parking  mainroad_yes  \\\n",
       "0    13300000  7420         4          2        3        2             1   \n",
       "1    12250000  8960         4          4        4        3             1   \n",
       "2    12250000  9960         3          2        2        2             1   \n",
       "3    12215000  7500         4          2        2        3             1   \n",
       "4    11410000  7420         4          1        2        2             1   \n",
       "..        ...   ...       ...        ...      ...      ...           ...   \n",
       "540   1820000  3000         2          1        1        2             1   \n",
       "541   1767150  2400         3          1        1        0             0   \n",
       "542   1750000  3620         2          1        1        0             1   \n",
       "543   1750000  2910         3          1        1        0             0   \n",
       "544   1750000  3850         3          1        2        0             1   \n",
       "\n",
       "     guestroom_yes  basement_yes  hotwaterheating_yes  airconditioning_yes  \\\n",
       "0                0             0                    0                    1   \n",
       "1                0             0                    0                    1   \n",
       "2                0             1                    0                    0   \n",
       "3                0             1                    0                    1   \n",
       "4                1             1                    0                    1   \n",
       "..             ...           ...                  ...                  ...   \n",
       "540              0             1                    0                    0   \n",
       "541              0             0                    0                    0   \n",
       "542              0             0                    0                    0   \n",
       "543              0             0                    0                    0   \n",
       "544              0             0                    0                    0   \n",
       "\n",
       "     prefarea_yes  furnishingstatus_semi-furnished  \\\n",
       "0               1                                0   \n",
       "1               0                                0   \n",
       "2               1                                1   \n",
       "3               1                                0   \n",
       "4               0                                0   \n",
       "..            ...                              ...   \n",
       "540             0                                0   \n",
       "541             0                                1   \n",
       "542             0                                0   \n",
       "543             0                                0   \n",
       "544             0                                0   \n",
       "\n",
       "     furnishingstatus_unfurnished  \n",
       "0                               0  \n",
       "1                               0  \n",
       "2                               0  \n",
       "3                               0  \n",
       "4                               0  \n",
       "..                            ...  \n",
       "540                             1  \n",
       "541                             0  \n",
       "542                             1  \n",
       "543                             0  \n",
       "544                             1  \n",
       "\n",
       "[545 rows x 14 columns]"
      ]
     },
     "execution_count": 44,
     "metadata": {},
     "output_type": "execute_result"
    }
   ],
   "source": [
    "Ir_house_price = pd.get_dummies(Ir_house_price, drop_first=True, columns=[\n",
    "                                                                         'mainroad', \n",
    "                                                                         'guestroom',\n",
    "                                                                         'basement', \n",
    "                                                                         'hotwaterheating',\n",
    "                                                                         'airconditioning',\n",
    "                                                                         'prefarea', \n",
    "                                                                         'furnishingstatus'], dtype=int)\n",
    "Ir_house_price"
   ]
  },
  {
   "cell_type": "code",
   "execution_count": 45,
   "id": "fda8945c-84fc-4924-af77-7fe53858e883",
   "metadata": {},
   "outputs": [
    {
     "name": "stdout",
     "output_type": "stream",
     "text": [
      "<class 'pandas.core.frame.DataFrame'>\n",
      "RangeIndex: 545 entries, 0 to 544\n",
      "Data columns (total 14 columns):\n",
      " #   Column                           Non-Null Count  Dtype\n",
      "---  ------                           --------------  -----\n",
      " 0   price                            545 non-null    int64\n",
      " 1   area                             545 non-null    int64\n",
      " 2   bedrooms                         545 non-null    int64\n",
      " 3   bathrooms                        545 non-null    int64\n",
      " 4   stories                          545 non-null    int64\n",
      " 5   parking                          545 non-null    int64\n",
      " 6   mainroad_yes                     545 non-null    int64\n",
      " 7   guestroom_yes                    545 non-null    int64\n",
      " 8   basement_yes                     545 non-null    int64\n",
      " 9   hotwaterheating_yes              545 non-null    int64\n",
      " 10  airconditioning_yes              545 non-null    int64\n",
      " 11  prefarea_yes                     545 non-null    int64\n",
      " 12  furnishingstatus_semi-furnished  545 non-null    int64\n",
      " 13  furnishingstatus_unfurnished     545 non-null    int64\n",
      "dtypes: int64(14)\n",
      "memory usage: 59.7 KB\n"
     ]
    }
   ],
   "source": [
    "Ir_house_price.info()"
   ]
  },
  {
   "cell_type": "markdown",
   "id": "bf8f88bd-08ce-4807-bdbd-14290830c322",
   "metadata": {},
   "source": [
    "接下来，我们要把因变量和自变量划分出来。\n",
    "\n",
    "因变量是`price`变量，因为我们进行线性回归的目的，是得到一个能根据其它可能对房屋价格有影响的变量，来预测销售价格的模型。"
   ]
  },
  {
   "cell_type": "code",
   "execution_count": 25,
   "id": "12eea8b0-50a4-4b3c-af91-eaf25015e1f3",
   "metadata": {},
   "outputs": [],
   "source": [
    "y = Ir_house_price['price']"
   ]
  },
  {
   "cell_type": "markdown",
   "id": "4ce3feb2-b13a-4687-9cde-e79c9b0b47da",
   "metadata": {},
   "source": [
    "我们可以把除价格之外的都纳入自变量，但需要查看它们之间的相关性。如果其中有些变量之间相关性很高，会导致共线性。"
   ]
  },
  {
   "cell_type": "code",
   "execution_count": 26,
   "id": "8ea7e3d8-4310-4aa0-90dd-749c753dd70d",
   "metadata": {},
   "outputs": [],
   "source": [
    "x = Ir_house_price.drop('price', axis=1)"
   ]
  },
  {
   "cell_type": "markdown",
   "id": "38517d04-3a21-4cb3-b68d-0ffc8566ab52",
   "metadata": {},
   "source": [
    "一般我们认为，当相关系数的绝对值大于0.8的时候，可能导致严重共线性，所以我们检查的时候，找绝对值大于0.8的值即可。"
   ]
  },
  {
   "cell_type": "code",
   "execution_count": 46,
   "id": "00664017-a396-437b-8f9c-71d701a4735a",
   "metadata": {},
   "outputs": [
    {
     "data": {
      "text/html": [
       "<div>\n",
       "<style scoped>\n",
       "    .dataframe tbody tr th:only-of-type {\n",
       "        vertical-align: middle;\n",
       "    }\n",
       "\n",
       "    .dataframe tbody tr th {\n",
       "        vertical-align: top;\n",
       "    }\n",
       "\n",
       "    .dataframe thead th {\n",
       "        text-align: right;\n",
       "    }\n",
       "</style>\n",
       "<table border=\"1\" class=\"dataframe\">\n",
       "  <thead>\n",
       "    <tr style=\"text-align: right;\">\n",
       "      <th></th>\n",
       "      <th>area</th>\n",
       "      <th>bedrooms</th>\n",
       "      <th>bathrooms</th>\n",
       "      <th>stories</th>\n",
       "      <th>parking</th>\n",
       "      <th>mainroad_yes</th>\n",
       "      <th>guestroom_yes</th>\n",
       "      <th>basement_yes</th>\n",
       "      <th>hotwaterheating_yes</th>\n",
       "      <th>airconditioning_yes</th>\n",
       "      <th>prefarea_yes</th>\n",
       "      <th>furnishingstatus_semi-furnished</th>\n",
       "      <th>furnishingstatus_unfurnished</th>\n",
       "    </tr>\n",
       "  </thead>\n",
       "  <tbody>\n",
       "    <tr>\n",
       "      <th>area</th>\n",
       "      <td>True</td>\n",
       "      <td>False</td>\n",
       "      <td>False</td>\n",
       "      <td>False</td>\n",
       "      <td>False</td>\n",
       "      <td>False</td>\n",
       "      <td>False</td>\n",
       "      <td>False</td>\n",
       "      <td>False</td>\n",
       "      <td>False</td>\n",
       "      <td>False</td>\n",
       "      <td>False</td>\n",
       "      <td>False</td>\n",
       "    </tr>\n",
       "    <tr>\n",
       "      <th>bedrooms</th>\n",
       "      <td>False</td>\n",
       "      <td>True</td>\n",
       "      <td>False</td>\n",
       "      <td>False</td>\n",
       "      <td>False</td>\n",
       "      <td>False</td>\n",
       "      <td>False</td>\n",
       "      <td>False</td>\n",
       "      <td>False</td>\n",
       "      <td>False</td>\n",
       "      <td>False</td>\n",
       "      <td>False</td>\n",
       "      <td>False</td>\n",
       "    </tr>\n",
       "    <tr>\n",
       "      <th>bathrooms</th>\n",
       "      <td>False</td>\n",
       "      <td>False</td>\n",
       "      <td>True</td>\n",
       "      <td>False</td>\n",
       "      <td>False</td>\n",
       "      <td>False</td>\n",
       "      <td>False</td>\n",
       "      <td>False</td>\n",
       "      <td>False</td>\n",
       "      <td>False</td>\n",
       "      <td>False</td>\n",
       "      <td>False</td>\n",
       "      <td>False</td>\n",
       "    </tr>\n",
       "    <tr>\n",
       "      <th>stories</th>\n",
       "      <td>False</td>\n",
       "      <td>False</td>\n",
       "      <td>False</td>\n",
       "      <td>True</td>\n",
       "      <td>False</td>\n",
       "      <td>False</td>\n",
       "      <td>False</td>\n",
       "      <td>False</td>\n",
       "      <td>False</td>\n",
       "      <td>False</td>\n",
       "      <td>False</td>\n",
       "      <td>False</td>\n",
       "      <td>False</td>\n",
       "    </tr>\n",
       "    <tr>\n",
       "      <th>parking</th>\n",
       "      <td>False</td>\n",
       "      <td>False</td>\n",
       "      <td>False</td>\n",
       "      <td>False</td>\n",
       "      <td>True</td>\n",
       "      <td>False</td>\n",
       "      <td>False</td>\n",
       "      <td>False</td>\n",
       "      <td>False</td>\n",
       "      <td>False</td>\n",
       "      <td>False</td>\n",
       "      <td>False</td>\n",
       "      <td>False</td>\n",
       "    </tr>\n",
       "    <tr>\n",
       "      <th>mainroad_yes</th>\n",
       "      <td>False</td>\n",
       "      <td>False</td>\n",
       "      <td>False</td>\n",
       "      <td>False</td>\n",
       "      <td>False</td>\n",
       "      <td>True</td>\n",
       "      <td>False</td>\n",
       "      <td>False</td>\n",
       "      <td>False</td>\n",
       "      <td>False</td>\n",
       "      <td>False</td>\n",
       "      <td>False</td>\n",
       "      <td>False</td>\n",
       "    </tr>\n",
       "    <tr>\n",
       "      <th>guestroom_yes</th>\n",
       "      <td>False</td>\n",
       "      <td>False</td>\n",
       "      <td>False</td>\n",
       "      <td>False</td>\n",
       "      <td>False</td>\n",
       "      <td>False</td>\n",
       "      <td>True</td>\n",
       "      <td>False</td>\n",
       "      <td>False</td>\n",
       "      <td>False</td>\n",
       "      <td>False</td>\n",
       "      <td>False</td>\n",
       "      <td>False</td>\n",
       "    </tr>\n",
       "    <tr>\n",
       "      <th>basement_yes</th>\n",
       "      <td>False</td>\n",
       "      <td>False</td>\n",
       "      <td>False</td>\n",
       "      <td>False</td>\n",
       "      <td>False</td>\n",
       "      <td>False</td>\n",
       "      <td>False</td>\n",
       "      <td>True</td>\n",
       "      <td>False</td>\n",
       "      <td>False</td>\n",
       "      <td>False</td>\n",
       "      <td>False</td>\n",
       "      <td>False</td>\n",
       "    </tr>\n",
       "    <tr>\n",
       "      <th>hotwaterheating_yes</th>\n",
       "      <td>False</td>\n",
       "      <td>False</td>\n",
       "      <td>False</td>\n",
       "      <td>False</td>\n",
       "      <td>False</td>\n",
       "      <td>False</td>\n",
       "      <td>False</td>\n",
       "      <td>False</td>\n",
       "      <td>True</td>\n",
       "      <td>False</td>\n",
       "      <td>False</td>\n",
       "      <td>False</td>\n",
       "      <td>False</td>\n",
       "    </tr>\n",
       "    <tr>\n",
       "      <th>airconditioning_yes</th>\n",
       "      <td>False</td>\n",
       "      <td>False</td>\n",
       "      <td>False</td>\n",
       "      <td>False</td>\n",
       "      <td>False</td>\n",
       "      <td>False</td>\n",
       "      <td>False</td>\n",
       "      <td>False</td>\n",
       "      <td>False</td>\n",
       "      <td>True</td>\n",
       "      <td>False</td>\n",
       "      <td>False</td>\n",
       "      <td>False</td>\n",
       "    </tr>\n",
       "    <tr>\n",
       "      <th>prefarea_yes</th>\n",
       "      <td>False</td>\n",
       "      <td>False</td>\n",
       "      <td>False</td>\n",
       "      <td>False</td>\n",
       "      <td>False</td>\n",
       "      <td>False</td>\n",
       "      <td>False</td>\n",
       "      <td>False</td>\n",
       "      <td>False</td>\n",
       "      <td>False</td>\n",
       "      <td>True</td>\n",
       "      <td>False</td>\n",
       "      <td>False</td>\n",
       "    </tr>\n",
       "    <tr>\n",
       "      <th>furnishingstatus_semi-furnished</th>\n",
       "      <td>False</td>\n",
       "      <td>False</td>\n",
       "      <td>False</td>\n",
       "      <td>False</td>\n",
       "      <td>False</td>\n",
       "      <td>False</td>\n",
       "      <td>False</td>\n",
       "      <td>False</td>\n",
       "      <td>False</td>\n",
       "      <td>False</td>\n",
       "      <td>False</td>\n",
       "      <td>True</td>\n",
       "      <td>False</td>\n",
       "    </tr>\n",
       "    <tr>\n",
       "      <th>furnishingstatus_unfurnished</th>\n",
       "      <td>False</td>\n",
       "      <td>False</td>\n",
       "      <td>False</td>\n",
       "      <td>False</td>\n",
       "      <td>False</td>\n",
       "      <td>False</td>\n",
       "      <td>False</td>\n",
       "      <td>False</td>\n",
       "      <td>False</td>\n",
       "      <td>False</td>\n",
       "      <td>False</td>\n",
       "      <td>False</td>\n",
       "      <td>True</td>\n",
       "    </tr>\n",
       "  </tbody>\n",
       "</table>\n",
       "</div>"
      ],
      "text/plain": [
       "                                  area  bedrooms  bathrooms  stories  parking  \\\n",
       "area                              True     False      False    False    False   \n",
       "bedrooms                         False      True      False    False    False   \n",
       "bathrooms                        False     False       True    False    False   \n",
       "stories                          False     False      False     True    False   \n",
       "parking                          False     False      False    False     True   \n",
       "mainroad_yes                     False     False      False    False    False   \n",
       "guestroom_yes                    False     False      False    False    False   \n",
       "basement_yes                     False     False      False    False    False   \n",
       "hotwaterheating_yes              False     False      False    False    False   \n",
       "airconditioning_yes              False     False      False    False    False   \n",
       "prefarea_yes                     False     False      False    False    False   \n",
       "furnishingstatus_semi-furnished  False     False      False    False    False   \n",
       "furnishingstatus_unfurnished     False     False      False    False    False   \n",
       "\n",
       "                                 mainroad_yes  guestroom_yes  basement_yes  \\\n",
       "area                                    False          False         False   \n",
       "bedrooms                                False          False         False   \n",
       "bathrooms                               False          False         False   \n",
       "stories                                 False          False         False   \n",
       "parking                                 False          False         False   \n",
       "mainroad_yes                             True          False         False   \n",
       "guestroom_yes                           False           True         False   \n",
       "basement_yes                            False          False          True   \n",
       "hotwaterheating_yes                     False          False         False   \n",
       "airconditioning_yes                     False          False         False   \n",
       "prefarea_yes                            False          False         False   \n",
       "furnishingstatus_semi-furnished         False          False         False   \n",
       "furnishingstatus_unfurnished            False          False         False   \n",
       "\n",
       "                                 hotwaterheating_yes  airconditioning_yes  \\\n",
       "area                                           False                False   \n",
       "bedrooms                                       False                False   \n",
       "bathrooms                                      False                False   \n",
       "stories                                        False                False   \n",
       "parking                                        False                False   \n",
       "mainroad_yes                                   False                False   \n",
       "guestroom_yes                                  False                False   \n",
       "basement_yes                                   False                False   \n",
       "hotwaterheating_yes                             True                False   \n",
       "airconditioning_yes                            False                 True   \n",
       "prefarea_yes                                   False                False   \n",
       "furnishingstatus_semi-furnished                False                False   \n",
       "furnishingstatus_unfurnished                   False                False   \n",
       "\n",
       "                                 prefarea_yes  \\\n",
       "area                                    False   \n",
       "bedrooms                                False   \n",
       "bathrooms                               False   \n",
       "stories                                 False   \n",
       "parking                                 False   \n",
       "mainroad_yes                            False   \n",
       "guestroom_yes                           False   \n",
       "basement_yes                            False   \n",
       "hotwaterheating_yes                     False   \n",
       "airconditioning_yes                     False   \n",
       "prefarea_yes                             True   \n",
       "furnishingstatus_semi-furnished         False   \n",
       "furnishingstatus_unfurnished            False   \n",
       "\n",
       "                                 furnishingstatus_semi-furnished  \\\n",
       "area                                                       False   \n",
       "bedrooms                                                   False   \n",
       "bathrooms                                                  False   \n",
       "stories                                                    False   \n",
       "parking                                                    False   \n",
       "mainroad_yes                                               False   \n",
       "guestroom_yes                                              False   \n",
       "basement_yes                                               False   \n",
       "hotwaterheating_yes                                        False   \n",
       "airconditioning_yes                                        False   \n",
       "prefarea_yes                                               False   \n",
       "furnishingstatus_semi-furnished                             True   \n",
       "furnishingstatus_unfurnished                               False   \n",
       "\n",
       "                                 furnishingstatus_unfurnished  \n",
       "area                                                    False  \n",
       "bedrooms                                                False  \n",
       "bathrooms                                               False  \n",
       "stories                                                 False  \n",
       "parking                                                 False  \n",
       "mainroad_yes                                            False  \n",
       "guestroom_yes                                           False  \n",
       "basement_yes                                            False  \n",
       "hotwaterheating_yes                                     False  \n",
       "airconditioning_yes                                     False  \n",
       "prefarea_yes                                            False  \n",
       "furnishingstatus_semi-furnished                         False  \n",
       "furnishingstatus_unfurnished                             True  "
      ]
     },
     "execution_count": 46,
     "metadata": {},
     "output_type": "execute_result"
    }
   ],
   "source": [
    "x.corr().abs() > 0.8"
   ]
  },
  {
   "cell_type": "markdown",
   "id": "c2465f79-ec06-4de3-a51b-385254fd9184",
   "metadata": {},
   "source": [
    "从以上输出来看，不同变量之间相关系数的绝对值均小于或等于0.8。"
   ]
  },
  {
   "cell_type": "markdown",
   "id": "a8131637-6177-4b0e-8e6c-8d79770287d2",
   "metadata": {},
   "source": [
    "接下来，给模型的线性方程添加截距。"
   ]
  },
  {
   "cell_type": "code",
   "execution_count": 47,
   "id": "1472781a-9d40-4fc1-b3a8-1cf3e2687d79",
   "metadata": {},
   "outputs": [
    {
     "data": {
      "text/html": [
       "<div>\n",
       "<style scoped>\n",
       "    .dataframe tbody tr th:only-of-type {\n",
       "        vertical-align: middle;\n",
       "    }\n",
       "\n",
       "    .dataframe tbody tr th {\n",
       "        vertical-align: top;\n",
       "    }\n",
       "\n",
       "    .dataframe thead th {\n",
       "        text-align: right;\n",
       "    }\n",
       "</style>\n",
       "<table border=\"1\" class=\"dataframe\">\n",
       "  <thead>\n",
       "    <tr style=\"text-align: right;\">\n",
       "      <th></th>\n",
       "      <th>const</th>\n",
       "      <th>area</th>\n",
       "      <th>bedrooms</th>\n",
       "      <th>bathrooms</th>\n",
       "      <th>stories</th>\n",
       "      <th>parking</th>\n",
       "      <th>mainroad_yes</th>\n",
       "      <th>guestroom_yes</th>\n",
       "      <th>basement_yes</th>\n",
       "      <th>hotwaterheating_yes</th>\n",
       "      <th>airconditioning_yes</th>\n",
       "      <th>prefarea_yes</th>\n",
       "      <th>furnishingstatus_semi-furnished</th>\n",
       "      <th>furnishingstatus_unfurnished</th>\n",
       "    </tr>\n",
       "  </thead>\n",
       "  <tbody>\n",
       "    <tr>\n",
       "      <th>0</th>\n",
       "      <td>1.0</td>\n",
       "      <td>7420</td>\n",
       "      <td>4</td>\n",
       "      <td>2</td>\n",
       "      <td>3</td>\n",
       "      <td>2</td>\n",
       "      <td>1</td>\n",
       "      <td>0</td>\n",
       "      <td>0</td>\n",
       "      <td>0</td>\n",
       "      <td>1</td>\n",
       "      <td>1</td>\n",
       "      <td>0</td>\n",
       "      <td>0</td>\n",
       "    </tr>\n",
       "    <tr>\n",
       "      <th>1</th>\n",
       "      <td>1.0</td>\n",
       "      <td>8960</td>\n",
       "      <td>4</td>\n",
       "      <td>4</td>\n",
       "      <td>4</td>\n",
       "      <td>3</td>\n",
       "      <td>1</td>\n",
       "      <td>0</td>\n",
       "      <td>0</td>\n",
       "      <td>0</td>\n",
       "      <td>1</td>\n",
       "      <td>0</td>\n",
       "      <td>0</td>\n",
       "      <td>0</td>\n",
       "    </tr>\n",
       "    <tr>\n",
       "      <th>2</th>\n",
       "      <td>1.0</td>\n",
       "      <td>9960</td>\n",
       "      <td>3</td>\n",
       "      <td>2</td>\n",
       "      <td>2</td>\n",
       "      <td>2</td>\n",
       "      <td>1</td>\n",
       "      <td>0</td>\n",
       "      <td>1</td>\n",
       "      <td>0</td>\n",
       "      <td>0</td>\n",
       "      <td>1</td>\n",
       "      <td>1</td>\n",
       "      <td>0</td>\n",
       "    </tr>\n",
       "    <tr>\n",
       "      <th>3</th>\n",
       "      <td>1.0</td>\n",
       "      <td>7500</td>\n",
       "      <td>4</td>\n",
       "      <td>2</td>\n",
       "      <td>2</td>\n",
       "      <td>3</td>\n",
       "      <td>1</td>\n",
       "      <td>0</td>\n",
       "      <td>1</td>\n",
       "      <td>0</td>\n",
       "      <td>1</td>\n",
       "      <td>1</td>\n",
       "      <td>0</td>\n",
       "      <td>0</td>\n",
       "    </tr>\n",
       "    <tr>\n",
       "      <th>4</th>\n",
       "      <td>1.0</td>\n",
       "      <td>7420</td>\n",
       "      <td>4</td>\n",
       "      <td>1</td>\n",
       "      <td>2</td>\n",
       "      <td>2</td>\n",
       "      <td>1</td>\n",
       "      <td>1</td>\n",
       "      <td>1</td>\n",
       "      <td>0</td>\n",
       "      <td>1</td>\n",
       "      <td>0</td>\n",
       "      <td>0</td>\n",
       "      <td>0</td>\n",
       "    </tr>\n",
       "    <tr>\n",
       "      <th>...</th>\n",
       "      <td>...</td>\n",
       "      <td>...</td>\n",
       "      <td>...</td>\n",
       "      <td>...</td>\n",
       "      <td>...</td>\n",
       "      <td>...</td>\n",
       "      <td>...</td>\n",
       "      <td>...</td>\n",
       "      <td>...</td>\n",
       "      <td>...</td>\n",
       "      <td>...</td>\n",
       "      <td>...</td>\n",
       "      <td>...</td>\n",
       "      <td>...</td>\n",
       "    </tr>\n",
       "    <tr>\n",
       "      <th>540</th>\n",
       "      <td>1.0</td>\n",
       "      <td>3000</td>\n",
       "      <td>2</td>\n",
       "      <td>1</td>\n",
       "      <td>1</td>\n",
       "      <td>2</td>\n",
       "      <td>1</td>\n",
       "      <td>0</td>\n",
       "      <td>1</td>\n",
       "      <td>0</td>\n",
       "      <td>0</td>\n",
       "      <td>0</td>\n",
       "      <td>0</td>\n",
       "      <td>1</td>\n",
       "    </tr>\n",
       "    <tr>\n",
       "      <th>541</th>\n",
       "      <td>1.0</td>\n",
       "      <td>2400</td>\n",
       "      <td>3</td>\n",
       "      <td>1</td>\n",
       "      <td>1</td>\n",
       "      <td>0</td>\n",
       "      <td>0</td>\n",
       "      <td>0</td>\n",
       "      <td>0</td>\n",
       "      <td>0</td>\n",
       "      <td>0</td>\n",
       "      <td>0</td>\n",
       "      <td>1</td>\n",
       "      <td>0</td>\n",
       "    </tr>\n",
       "    <tr>\n",
       "      <th>542</th>\n",
       "      <td>1.0</td>\n",
       "      <td>3620</td>\n",
       "      <td>2</td>\n",
       "      <td>1</td>\n",
       "      <td>1</td>\n",
       "      <td>0</td>\n",
       "      <td>1</td>\n",
       "      <td>0</td>\n",
       "      <td>0</td>\n",
       "      <td>0</td>\n",
       "      <td>0</td>\n",
       "      <td>0</td>\n",
       "      <td>0</td>\n",
       "      <td>1</td>\n",
       "    </tr>\n",
       "    <tr>\n",
       "      <th>543</th>\n",
       "      <td>1.0</td>\n",
       "      <td>2910</td>\n",
       "      <td>3</td>\n",
       "      <td>1</td>\n",
       "      <td>1</td>\n",
       "      <td>0</td>\n",
       "      <td>0</td>\n",
       "      <td>0</td>\n",
       "      <td>0</td>\n",
       "      <td>0</td>\n",
       "      <td>0</td>\n",
       "      <td>0</td>\n",
       "      <td>0</td>\n",
       "      <td>0</td>\n",
       "    </tr>\n",
       "    <tr>\n",
       "      <th>544</th>\n",
       "      <td>1.0</td>\n",
       "      <td>3850</td>\n",
       "      <td>3</td>\n",
       "      <td>1</td>\n",
       "      <td>2</td>\n",
       "      <td>0</td>\n",
       "      <td>1</td>\n",
       "      <td>0</td>\n",
       "      <td>0</td>\n",
       "      <td>0</td>\n",
       "      <td>0</td>\n",
       "      <td>0</td>\n",
       "      <td>0</td>\n",
       "      <td>1</td>\n",
       "    </tr>\n",
       "  </tbody>\n",
       "</table>\n",
       "<p>545 rows × 14 columns</p>\n",
       "</div>"
      ],
      "text/plain": [
       "     const  area  bedrooms  bathrooms  stories  parking  mainroad_yes  \\\n",
       "0      1.0  7420         4          2        3        2             1   \n",
       "1      1.0  8960         4          4        4        3             1   \n",
       "2      1.0  9960         3          2        2        2             1   \n",
       "3      1.0  7500         4          2        2        3             1   \n",
       "4      1.0  7420         4          1        2        2             1   \n",
       "..     ...   ...       ...        ...      ...      ...           ...   \n",
       "540    1.0  3000         2          1        1        2             1   \n",
       "541    1.0  2400         3          1        1        0             0   \n",
       "542    1.0  3620         2          1        1        0             1   \n",
       "543    1.0  2910         3          1        1        0             0   \n",
       "544    1.0  3850         3          1        2        0             1   \n",
       "\n",
       "     guestroom_yes  basement_yes  hotwaterheating_yes  airconditioning_yes  \\\n",
       "0                0             0                    0                    1   \n",
       "1                0             0                    0                    1   \n",
       "2                0             1                    0                    0   \n",
       "3                0             1                    0                    1   \n",
       "4                1             1                    0                    1   \n",
       "..             ...           ...                  ...                  ...   \n",
       "540              0             1                    0                    0   \n",
       "541              0             0                    0                    0   \n",
       "542              0             0                    0                    0   \n",
       "543              0             0                    0                    0   \n",
       "544              0             0                    0                    0   \n",
       "\n",
       "     prefarea_yes  furnishingstatus_semi-furnished  \\\n",
       "0               1                                0   \n",
       "1               0                                0   \n",
       "2               1                                1   \n",
       "3               1                                0   \n",
       "4               0                                0   \n",
       "..            ...                              ...   \n",
       "540             0                                0   \n",
       "541             0                                1   \n",
       "542             0                                0   \n",
       "543             0                                0   \n",
       "544             0                                0   \n",
       "\n",
       "     furnishingstatus_unfurnished  \n",
       "0                               0  \n",
       "1                               0  \n",
       "2                               0  \n",
       "3                               0  \n",
       "4                               0  \n",
       "..                            ...  \n",
       "540                             1  \n",
       "541                             0  \n",
       "542                             1  \n",
       "543                             0  \n",
       "544                             1  \n",
       "\n",
       "[545 rows x 14 columns]"
      ]
     },
     "execution_count": 47,
     "metadata": {},
     "output_type": "execute_result"
    }
   ],
   "source": [
    "x = sm.add_constant(x)\n",
    "x"
   ]
  },
  {
   "cell_type": "markdown",
   "id": "a71a547c-2c84-43b8-9c5e-665652c5358a",
   "metadata": {},
   "source": [
    "下一步就可以调用OLS函数，利用最小二乘法来得到线性回归模型的参数值。"
   ]
  },
  {
   "cell_type": "code",
   "execution_count": 48,
   "id": "31863a44-7c70-4fa3-915e-23e9cc73d0c8",
   "metadata": {},
   "outputs": [],
   "source": [
    "model = sm.OLS(y,x).fit()"
   ]
  },
  {
   "cell_type": "markdown",
   "id": "ef5632f3-42ce-416b-a6b8-1cd6d5edb72b",
   "metadata": {},
   "source": [
    "为了查看模型结果，我们使用`summary`方法来获得总结信息。"
   ]
  },
  {
   "cell_type": "code",
   "execution_count": 49,
   "id": "e280dc40-954a-412b-b47e-19f079982787",
   "metadata": {},
   "outputs": [
    {
     "data": {
      "text/html": [
       "<table class=\"simpletable\">\n",
       "<caption>OLS Regression Results</caption>\n",
       "<tr>\n",
       "  <th>Dep. Variable:</th>          <td>price</td>      <th>  R-squared:         </th> <td>   0.682</td> \n",
       "</tr>\n",
       "<tr>\n",
       "  <th>Model:</th>                   <td>OLS</td>       <th>  Adj. R-squared:    </th> <td>   0.674</td> \n",
       "</tr>\n",
       "<tr>\n",
       "  <th>Method:</th>             <td>Least Squares</td>  <th>  F-statistic:       </th> <td>   87.52</td> \n",
       "</tr>\n",
       "<tr>\n",
       "  <th>Date:</th>             <td>Fri, 15 Aug 2025</td> <th>  Prob (F-statistic):</th> <td>9.07e-123</td>\n",
       "</tr>\n",
       "<tr>\n",
       "  <th>Time:</th>                 <td>12:32:45</td>     <th>  Log-Likelihood:    </th> <td> -8331.5</td> \n",
       "</tr>\n",
       "<tr>\n",
       "  <th>No. Observations:</th>      <td>   545</td>      <th>  AIC:               </th> <td>1.669e+04</td>\n",
       "</tr>\n",
       "<tr>\n",
       "  <th>Df Residuals:</th>          <td>   531</td>      <th>  BIC:               </th> <td>1.675e+04</td>\n",
       "</tr>\n",
       "<tr>\n",
       "  <th>Df Model:</th>              <td>    13</td>      <th>                     </th>     <td> </td>    \n",
       "</tr>\n",
       "<tr>\n",
       "  <th>Covariance Type:</th>      <td>nonrobust</td>    <th>                     </th>     <td> </td>    \n",
       "</tr>\n",
       "</table>\n",
       "<table class=\"simpletable\">\n",
       "<tr>\n",
       "                 <td></td>                    <th>coef</th>     <th>std err</th>      <th>t</th>      <th>P>|t|</th>  <th>[0.025</th>    <th>0.975]</th>  \n",
       "</tr>\n",
       "<tr>\n",
       "  <th>const</th>                           <td> 4.277e+04</td> <td> 2.64e+05</td> <td>    0.162</td> <td> 0.872</td> <td>-4.76e+05</td> <td> 5.62e+05</td>\n",
       "</tr>\n",
       "<tr>\n",
       "  <th>area</th>                            <td>  244.1394</td> <td>   24.289</td> <td>   10.052</td> <td> 0.000</td> <td>  196.425</td> <td>  291.853</td>\n",
       "</tr>\n",
       "<tr>\n",
       "  <th>bedrooms</th>                        <td> 1.148e+05</td> <td> 7.26e+04</td> <td>    1.581</td> <td> 0.114</td> <td>-2.78e+04</td> <td> 2.57e+05</td>\n",
       "</tr>\n",
       "<tr>\n",
       "  <th>bathrooms</th>                       <td> 9.877e+05</td> <td> 1.03e+05</td> <td>    9.555</td> <td> 0.000</td> <td> 7.85e+05</td> <td> 1.19e+06</td>\n",
       "</tr>\n",
       "<tr>\n",
       "  <th>stories</th>                         <td> 4.508e+05</td> <td> 6.42e+04</td> <td>    7.026</td> <td> 0.000</td> <td> 3.25e+05</td> <td> 5.77e+05</td>\n",
       "</tr>\n",
       "<tr>\n",
       "  <th>parking</th>                         <td> 2.771e+05</td> <td> 5.85e+04</td> <td>    4.735</td> <td> 0.000</td> <td> 1.62e+05</td> <td> 3.92e+05</td>\n",
       "</tr>\n",
       "<tr>\n",
       "  <th>mainroad_yes</th>                    <td> 4.213e+05</td> <td> 1.42e+05</td> <td>    2.962</td> <td> 0.003</td> <td> 1.42e+05</td> <td> 7.01e+05</td>\n",
       "</tr>\n",
       "<tr>\n",
       "  <th>guestroom_yes</th>                   <td> 3.005e+05</td> <td> 1.32e+05</td> <td>    2.282</td> <td> 0.023</td> <td> 4.18e+04</td> <td> 5.59e+05</td>\n",
       "</tr>\n",
       "<tr>\n",
       "  <th>basement_yes</th>                    <td> 3.501e+05</td> <td>  1.1e+05</td> <td>    3.175</td> <td> 0.002</td> <td> 1.33e+05</td> <td> 5.67e+05</td>\n",
       "</tr>\n",
       "<tr>\n",
       "  <th>hotwaterheating_yes</th>             <td> 8.554e+05</td> <td> 2.23e+05</td> <td>    3.833</td> <td> 0.000</td> <td> 4.17e+05</td> <td> 1.29e+06</td>\n",
       "</tr>\n",
       "<tr>\n",
       "  <th>airconditioning_yes</th>             <td>  8.65e+05</td> <td> 1.08e+05</td> <td>    7.983</td> <td> 0.000</td> <td> 6.52e+05</td> <td> 1.08e+06</td>\n",
       "</tr>\n",
       "<tr>\n",
       "  <th>prefarea_yes</th>                    <td> 6.515e+05</td> <td> 1.16e+05</td> <td>    5.632</td> <td> 0.000</td> <td> 4.24e+05</td> <td> 8.79e+05</td>\n",
       "</tr>\n",
       "<tr>\n",
       "  <th>furnishingstatus_semi-furnished</th> <td>-4.634e+04</td> <td> 1.17e+05</td> <td>   -0.398</td> <td> 0.691</td> <td>-2.75e+05</td> <td> 1.83e+05</td>\n",
       "</tr>\n",
       "<tr>\n",
       "  <th>furnishingstatus_unfurnished</th>    <td>-4.112e+05</td> <td> 1.26e+05</td> <td>   -3.258</td> <td> 0.001</td> <td>-6.59e+05</td> <td>-1.63e+05</td>\n",
       "</tr>\n",
       "</table>\n",
       "<table class=\"simpletable\">\n",
       "<tr>\n",
       "  <th>Omnibus:</th>       <td>97.909</td> <th>  Durbin-Watson:     </th> <td>   1.209</td>\n",
       "</tr>\n",
       "<tr>\n",
       "  <th>Prob(Omnibus):</th> <td> 0.000</td> <th>  Jarque-Bera (JB):  </th> <td> 258.281</td>\n",
       "</tr>\n",
       "<tr>\n",
       "  <th>Skew:</th>          <td> 0.895</td> <th>  Prob(JB):          </th> <td>8.22e-57</td>\n",
       "</tr>\n",
       "<tr>\n",
       "  <th>Kurtosis:</th>      <td> 5.859</td> <th>  Cond. No.          </th> <td>3.49e+04</td>\n",
       "</tr>\n",
       "</table><br/><br/>Notes:<br/>[1] Standard Errors assume that the covariance matrix of the errors is correctly specified.<br/>[2] The condition number is large, 3.49e+04. This might indicate that there are<br/>strong multicollinearity or other numerical problems."
      ],
      "text/latex": [
       "\\begin{center}\n",
       "\\begin{tabular}{lclc}\n",
       "\\toprule\n",
       "\\textbf{Dep. Variable:}                   &      price       & \\textbf{  R-squared:         } &     0.682   \\\\\n",
       "\\textbf{Model:}                           &       OLS        & \\textbf{  Adj. R-squared:    } &     0.674   \\\\\n",
       "\\textbf{Method:}                          &  Least Squares   & \\textbf{  F-statistic:       } &     87.52   \\\\\n",
       "\\textbf{Date:}                            & Fri, 15 Aug 2025 & \\textbf{  Prob (F-statistic):} & 9.07e-123   \\\\\n",
       "\\textbf{Time:}                            &     12:32:45     & \\textbf{  Log-Likelihood:    } &   -8331.5   \\\\\n",
       "\\textbf{No. Observations:}                &         545      & \\textbf{  AIC:               } & 1.669e+04   \\\\\n",
       "\\textbf{Df Residuals:}                    &         531      & \\textbf{  BIC:               } & 1.675e+04   \\\\\n",
       "\\textbf{Df Model:}                        &          13      & \\textbf{                     } &             \\\\\n",
       "\\textbf{Covariance Type:}                 &    nonrobust     & \\textbf{                     } &             \\\\\n",
       "\\bottomrule\n",
       "\\end{tabular}\n",
       "\\begin{tabular}{lcccccc}\n",
       "                                          & \\textbf{coef} & \\textbf{std err} & \\textbf{t} & \\textbf{P$> |$t$|$} & \\textbf{[0.025} & \\textbf{0.975]}  \\\\\n",
       "\\midrule\n",
       "\\textbf{const}                            &    4.277e+04  &     2.64e+05     &     0.162  &         0.872        &    -4.76e+05    &     5.62e+05     \\\\\n",
       "\\textbf{area}                             &     244.1394  &       24.289     &    10.052  &         0.000        &      196.425    &      291.853     \\\\\n",
       "\\textbf{bedrooms}                         &    1.148e+05  &     7.26e+04     &     1.581  &         0.114        &    -2.78e+04    &     2.57e+05     \\\\\n",
       "\\textbf{bathrooms}                        &    9.877e+05  &     1.03e+05     &     9.555  &         0.000        &     7.85e+05    &     1.19e+06     \\\\\n",
       "\\textbf{stories}                          &    4.508e+05  &     6.42e+04     &     7.026  &         0.000        &     3.25e+05    &     5.77e+05     \\\\\n",
       "\\textbf{parking}                          &    2.771e+05  &     5.85e+04     &     4.735  &         0.000        &     1.62e+05    &     3.92e+05     \\\\\n",
       "\\textbf{mainroad\\_yes}                    &    4.213e+05  &     1.42e+05     &     2.962  &         0.003        &     1.42e+05    &     7.01e+05     \\\\\n",
       "\\textbf{guestroom\\_yes}                   &    3.005e+05  &     1.32e+05     &     2.282  &         0.023        &     4.18e+04    &     5.59e+05     \\\\\n",
       "\\textbf{basement\\_yes}                    &    3.501e+05  &      1.1e+05     &     3.175  &         0.002        &     1.33e+05    &     5.67e+05     \\\\\n",
       "\\textbf{hotwaterheating\\_yes}             &    8.554e+05  &     2.23e+05     &     3.833  &         0.000        &     4.17e+05    &     1.29e+06     \\\\\n",
       "\\textbf{airconditioning\\_yes}             &     8.65e+05  &     1.08e+05     &     7.983  &         0.000        &     6.52e+05    &     1.08e+06     \\\\\n",
       "\\textbf{prefarea\\_yes}                    &    6.515e+05  &     1.16e+05     &     5.632  &         0.000        &     4.24e+05    &     8.79e+05     \\\\\n",
       "\\textbf{furnishingstatus\\_semi-furnished} &   -4.634e+04  &     1.17e+05     &    -0.398  &         0.691        &    -2.75e+05    &     1.83e+05     \\\\\n",
       "\\textbf{furnishingstatus\\_unfurnished}    &   -4.112e+05  &     1.26e+05     &    -3.258  &         0.001        &    -6.59e+05    &    -1.63e+05     \\\\\n",
       "\\bottomrule\n",
       "\\end{tabular}\n",
       "\\begin{tabular}{lclc}\n",
       "\\textbf{Omnibus:}       & 97.909 & \\textbf{  Durbin-Watson:     } &    1.209  \\\\\n",
       "\\textbf{Prob(Omnibus):} &  0.000 & \\textbf{  Jarque-Bera (JB):  } &  258.281  \\\\\n",
       "\\textbf{Skew:}          &  0.895 & \\textbf{  Prob(JB):          } & 8.22e-57  \\\\\n",
       "\\textbf{Kurtosis:}      &  5.859 & \\textbf{  Cond. No.          } & 3.49e+04  \\\\\n",
       "\\bottomrule\n",
       "\\end{tabular}\n",
       "%\\caption{OLS Regression Results}\n",
       "\\end{center}\n",
       "\n",
       "Notes: \\newline\n",
       " [1] Standard Errors assume that the covariance matrix of the errors is correctly specified. \\newline\n",
       " [2] The condition number is large, 3.49e+04. This might indicate that there are \\newline\n",
       " strong multicollinearity or other numerical problems."
      ],
      "text/plain": [
       "<class 'statsmodels.iolib.summary.Summary'>\n",
       "\"\"\"\n",
       "                            OLS Regression Results                            \n",
       "==============================================================================\n",
       "Dep. Variable:                  price   R-squared:                       0.682\n",
       "Model:                            OLS   Adj. R-squared:                  0.674\n",
       "Method:                 Least Squares   F-statistic:                     87.52\n",
       "Date:                Fri, 15 Aug 2025   Prob (F-statistic):          9.07e-123\n",
       "Time:                        12:32:45   Log-Likelihood:                -8331.5\n",
       "No. Observations:                 545   AIC:                         1.669e+04\n",
       "Df Residuals:                     531   BIC:                         1.675e+04\n",
       "Df Model:                          13                                         \n",
       "Covariance Type:            nonrobust                                         \n",
       "===================================================================================================\n",
       "                                      coef    std err          t      P>|t|      [0.025      0.975]\n",
       "---------------------------------------------------------------------------------------------------\n",
       "const                            4.277e+04   2.64e+05      0.162      0.872   -4.76e+05    5.62e+05\n",
       "area                              244.1394     24.289     10.052      0.000     196.425     291.853\n",
       "bedrooms                         1.148e+05   7.26e+04      1.581      0.114   -2.78e+04    2.57e+05\n",
       "bathrooms                        9.877e+05   1.03e+05      9.555      0.000    7.85e+05    1.19e+06\n",
       "stories                          4.508e+05   6.42e+04      7.026      0.000    3.25e+05    5.77e+05\n",
       "parking                          2.771e+05   5.85e+04      4.735      0.000    1.62e+05    3.92e+05\n",
       "mainroad_yes                     4.213e+05   1.42e+05      2.962      0.003    1.42e+05    7.01e+05\n",
       "guestroom_yes                    3.005e+05   1.32e+05      2.282      0.023    4.18e+04    5.59e+05\n",
       "basement_yes                     3.501e+05    1.1e+05      3.175      0.002    1.33e+05    5.67e+05\n",
       "hotwaterheating_yes              8.554e+05   2.23e+05      3.833      0.000    4.17e+05    1.29e+06\n",
       "airconditioning_yes               8.65e+05   1.08e+05      7.983      0.000    6.52e+05    1.08e+06\n",
       "prefarea_yes                     6.515e+05   1.16e+05      5.632      0.000    4.24e+05    8.79e+05\n",
       "furnishingstatus_semi-furnished -4.634e+04   1.17e+05     -0.398      0.691   -2.75e+05    1.83e+05\n",
       "furnishingstatus_unfurnished    -4.112e+05   1.26e+05     -3.258      0.001   -6.59e+05   -1.63e+05\n",
       "==============================================================================\n",
       "Omnibus:                       97.909   Durbin-Watson:                   1.209\n",
       "Prob(Omnibus):                  0.000   Jarque-Bera (JB):              258.281\n",
       "Skew:                           0.895   Prob(JB):                     8.22e-57\n",
       "Kurtosis:                       5.859   Cond. No.                     3.49e+04\n",
       "==============================================================================\n",
       "\n",
       "Notes:\n",
       "[1] Standard Errors assume that the covariance matrix of the errors is correctly specified.\n",
       "[2] The condition number is large, 3.49e+04. This might indicate that there are\n",
       "strong multicollinearity or other numerical problems.\n",
       "\"\"\""
      ]
     },
     "execution_count": 49,
     "metadata": {},
     "output_type": "execute_result"
    }
   ],
   "source": [
    "model.summary()"
   ]
  },
  {
   "cell_type": "markdown",
   "id": "9db16101-4819-475a-badf-81d032af86be",
   "metadata": {},
   "source": [
    "当我们把显著区间设定为0.05时，以上结果的P值可以看出，模型认为以下因素对房屋价格没有显著性影响：卧室数、是否为简装房。此外，常数（表示线性方程的截距）的P值也很大，说明也没有显著影响。\n",
    "\n",
    "可以把这些变量移除后，再次建立线性回归模型。"
   ]
  },
  {
   "cell_type": "code",
   "execution_count": 50,
   "id": "08527a59-af16-4a8d-826c-779f099ed25c",
   "metadata": {},
   "outputs": [],
   "source": [
    "x = x.drop(['const', 'bedrooms', 'furnishingstatus_semi-furnished'], axis=1)"
   ]
  },
  {
   "cell_type": "code",
   "execution_count": 52,
   "id": "7059bce0-046d-467e-8421-e7e311185f17",
   "metadata": {},
   "outputs": [],
   "source": [
    "model = sm.OLS(y,x).fit()"
   ]
  },
  {
   "cell_type": "code",
   "execution_count": 53,
   "id": "74db5370-64ef-4f43-9489-eb703bf9ee97",
   "metadata": {},
   "outputs": [
    {
     "data": {
      "text/html": [
       "<table class=\"simpletable\">\n",
       "<caption>OLS Regression Results</caption>\n",
       "<tr>\n",
       "  <th>Dep. Variable:</th>          <td>price</td>      <th>  R-squared (uncentered):</th>      <td>   0.957</td> \n",
       "</tr>\n",
       "<tr>\n",
       "  <th>Model:</th>                   <td>OLS</td>       <th>  Adj. R-squared (uncentered):</th> <td>   0.956</td> \n",
       "</tr>\n",
       "<tr>\n",
       "  <th>Method:</th>             <td>Least Squares</td>  <th>  F-statistic:       </th>          <td>   1088.</td> \n",
       "</tr>\n",
       "<tr>\n",
       "  <th>Date:</th>             <td>Fri, 15 Aug 2025</td> <th>  Prob (F-statistic):</th>           <td>  0.00</td>  \n",
       "</tr>\n",
       "<tr>\n",
       "  <th>Time:</th>                 <td>12:52:13</td>     <th>  Log-Likelihood:    </th>          <td> -8333.5</td> \n",
       "</tr>\n",
       "<tr>\n",
       "  <th>No. Observations:</th>      <td>   545</td>      <th>  AIC:               </th>          <td>1.669e+04</td>\n",
       "</tr>\n",
       "<tr>\n",
       "  <th>Df Residuals:</th>          <td>   534</td>      <th>  BIC:               </th>          <td>1.674e+04</td>\n",
       "</tr>\n",
       "<tr>\n",
       "  <th>Df Model:</th>              <td>    11</td>      <th>                     </th>              <td> </td>    \n",
       "</tr>\n",
       "<tr>\n",
       "  <th>Covariance Type:</th>      <td>nonrobust</td>    <th>                     </th>              <td> </td>    \n",
       "</tr>\n",
       "</table>\n",
       "<table class=\"simpletable\">\n",
       "<tr>\n",
       "                <td></td>                  <th>coef</th>     <th>std err</th>      <th>t</th>      <th>P>|t|</th>  <th>[0.025</th>    <th>0.975]</th>  \n",
       "</tr>\n",
       "<tr>\n",
       "  <th>area</th>                         <td>  257.5854</td> <td>   22.577</td> <td>   11.409</td> <td> 0.000</td> <td>  213.234</td> <td>  301.936</td>\n",
       "</tr>\n",
       "<tr>\n",
       "  <th>bathrooms</th>                    <td> 1.071e+06</td> <td> 9.27e+04</td> <td>   11.553</td> <td> 0.000</td> <td> 8.89e+05</td> <td> 1.25e+06</td>\n",
       "</tr>\n",
       "<tr>\n",
       "  <th>stories</th>                      <td> 5.084e+05</td> <td> 5.71e+04</td> <td>    8.898</td> <td> 0.000</td> <td> 3.96e+05</td> <td> 6.21e+05</td>\n",
       "</tr>\n",
       "<tr>\n",
       "  <th>parking</th>                      <td> 2.793e+05</td> <td> 5.83e+04</td> <td>    4.794</td> <td> 0.000</td> <td> 1.65e+05</td> <td> 3.94e+05</td>\n",
       "</tr>\n",
       "<tr>\n",
       "  <th>mainroad_yes</th>                 <td> 4.672e+05</td> <td> 1.27e+05</td> <td>    3.679</td> <td> 0.000</td> <td> 2.18e+05</td> <td> 7.17e+05</td>\n",
       "</tr>\n",
       "<tr>\n",
       "  <th>guestroom_yes</th>                <td> 2.851e+05</td> <td> 1.31e+05</td> <td>    2.172</td> <td> 0.030</td> <td> 2.72e+04</td> <td> 5.43e+05</td>\n",
       "</tr>\n",
       "<tr>\n",
       "  <th>basement_yes</th>                 <td> 4.016e+05</td> <td> 1.07e+05</td> <td>    3.765</td> <td> 0.000</td> <td> 1.92e+05</td> <td> 6.11e+05</td>\n",
       "</tr>\n",
       "<tr>\n",
       "  <th>hotwaterheating_yes</th>          <td> 8.668e+05</td> <td> 2.23e+05</td> <td>    3.884</td> <td> 0.000</td> <td> 4.28e+05</td> <td> 1.31e+06</td>\n",
       "</tr>\n",
       "<tr>\n",
       "  <th>airconditioning_yes</th>          <td> 8.543e+05</td> <td> 1.07e+05</td> <td>    7.952</td> <td> 0.000</td> <td> 6.43e+05</td> <td> 1.07e+06</td>\n",
       "</tr>\n",
       "<tr>\n",
       "  <th>prefarea_yes</th>                 <td> 6.443e+05</td> <td> 1.15e+05</td> <td>    5.594</td> <td> 0.000</td> <td> 4.18e+05</td> <td> 8.71e+05</td>\n",
       "</tr>\n",
       "<tr>\n",
       "  <th>furnishingstatus_unfurnished</th> <td>-3.493e+05</td> <td> 9.49e+04</td> <td>   -3.679</td> <td> 0.000</td> <td>-5.36e+05</td> <td>-1.63e+05</td>\n",
       "</tr>\n",
       "</table>\n",
       "<table class=\"simpletable\">\n",
       "<tr>\n",
       "  <th>Omnibus:</th>       <td>94.840</td> <th>  Durbin-Watson:     </th> <td>   1.262</td>\n",
       "</tr>\n",
       "<tr>\n",
       "  <th>Prob(Omnibus):</th> <td> 0.000</td> <th>  Jarque-Bera (JB):  </th> <td> 251.889</td>\n",
       "</tr>\n",
       "<tr>\n",
       "  <th>Skew:</th>          <td> 0.865</td> <th>  Prob(JB):          </th> <td>2.01e-55</td>\n",
       "</tr>\n",
       "<tr>\n",
       "  <th>Kurtosis:</th>      <td> 5.845</td> <th>  Cond. No.          </th> <td>2.74e+04</td>\n",
       "</tr>\n",
       "</table><br/><br/>Notes:<br/>[1] R² is computed without centering (uncentered) since the model does not contain a constant.<br/>[2] Standard Errors assume that the covariance matrix of the errors is correctly specified.<br/>[3] The condition number is large, 2.74e+04. This might indicate that there are<br/>strong multicollinearity or other numerical problems."
      ],
      "text/latex": [
       "\\begin{center}\n",
       "\\begin{tabular}{lclc}\n",
       "\\toprule\n",
       "\\textbf{Dep. Variable:}                &      price       & \\textbf{  R-squared (uncentered):}      &     0.957   \\\\\n",
       "\\textbf{Model:}                        &       OLS        & \\textbf{  Adj. R-squared (uncentered):} &     0.956   \\\\\n",
       "\\textbf{Method:}                       &  Least Squares   & \\textbf{  F-statistic:       }          &     1088.   \\\\\n",
       "\\textbf{Date:}                         & Fri, 15 Aug 2025 & \\textbf{  Prob (F-statistic):}          &     0.00    \\\\\n",
       "\\textbf{Time:}                         &     12:52:13     & \\textbf{  Log-Likelihood:    }          &   -8333.5   \\\\\n",
       "\\textbf{No. Observations:}             &         545      & \\textbf{  AIC:               }          & 1.669e+04   \\\\\n",
       "\\textbf{Df Residuals:}                 &         534      & \\textbf{  BIC:               }          & 1.674e+04   \\\\\n",
       "\\textbf{Df Model:}                     &          11      & \\textbf{                     }          &             \\\\\n",
       "\\textbf{Covariance Type:}              &    nonrobust     & \\textbf{                     }          &             \\\\\n",
       "\\bottomrule\n",
       "\\end{tabular}\n",
       "\\begin{tabular}{lcccccc}\n",
       "                                       & \\textbf{coef} & \\textbf{std err} & \\textbf{t} & \\textbf{P$> |$t$|$} & \\textbf{[0.025} & \\textbf{0.975]}  \\\\\n",
       "\\midrule\n",
       "\\textbf{area}                          &     257.5854  &       22.577     &    11.409  &         0.000        &      213.234    &      301.936     \\\\\n",
       "\\textbf{bathrooms}                     &    1.071e+06  &     9.27e+04     &    11.553  &         0.000        &     8.89e+05    &     1.25e+06     \\\\\n",
       "\\textbf{stories}                       &    5.084e+05  &     5.71e+04     &     8.898  &         0.000        &     3.96e+05    &     6.21e+05     \\\\\n",
       "\\textbf{parking}                       &    2.793e+05  &     5.83e+04     &     4.794  &         0.000        &     1.65e+05    &     3.94e+05     \\\\\n",
       "\\textbf{mainroad\\_yes}                 &    4.672e+05  &     1.27e+05     &     3.679  &         0.000        &     2.18e+05    &     7.17e+05     \\\\\n",
       "\\textbf{guestroom\\_yes}                &    2.851e+05  &     1.31e+05     &     2.172  &         0.030        &     2.72e+04    &     5.43e+05     \\\\\n",
       "\\textbf{basement\\_yes}                 &    4.016e+05  &     1.07e+05     &     3.765  &         0.000        &     1.92e+05    &     6.11e+05     \\\\\n",
       "\\textbf{hotwaterheating\\_yes}          &    8.668e+05  &     2.23e+05     &     3.884  &         0.000        &     4.28e+05    &     1.31e+06     \\\\\n",
       "\\textbf{airconditioning\\_yes}          &    8.543e+05  &     1.07e+05     &     7.952  &         0.000        &     6.43e+05    &     1.07e+06     \\\\\n",
       "\\textbf{prefarea\\_yes}                 &    6.443e+05  &     1.15e+05     &     5.594  &         0.000        &     4.18e+05    &     8.71e+05     \\\\\n",
       "\\textbf{furnishingstatus\\_unfurnished} &   -3.493e+05  &     9.49e+04     &    -3.679  &         0.000        &    -5.36e+05    &    -1.63e+05     \\\\\n",
       "\\bottomrule\n",
       "\\end{tabular}\n",
       "\\begin{tabular}{lclc}\n",
       "\\textbf{Omnibus:}       & 94.840 & \\textbf{  Durbin-Watson:     } &    1.262  \\\\\n",
       "\\textbf{Prob(Omnibus):} &  0.000 & \\textbf{  Jarque-Bera (JB):  } &  251.889  \\\\\n",
       "\\textbf{Skew:}          &  0.865 & \\textbf{  Prob(JB):          } & 2.01e-55  \\\\\n",
       "\\textbf{Kurtosis:}      &  5.845 & \\textbf{  Cond. No.          } & 2.74e+04  \\\\\n",
       "\\bottomrule\n",
       "\\end{tabular}\n",
       "%\\caption{OLS Regression Results}\n",
       "\\end{center}\n",
       "\n",
       "Notes: \\newline\n",
       " [1] R² is computed without centering (uncentered) since the model does not contain a constant. \\newline\n",
       " [2] Standard Errors assume that the covariance matrix of the errors is correctly specified. \\newline\n",
       " [3] The condition number is large, 2.74e+04. This might indicate that there are \\newline\n",
       " strong multicollinearity or other numerical problems."
      ],
      "text/plain": [
       "<class 'statsmodels.iolib.summary.Summary'>\n",
       "\"\"\"\n",
       "                                 OLS Regression Results                                \n",
       "=======================================================================================\n",
       "Dep. Variable:                  price   R-squared (uncentered):                   0.957\n",
       "Model:                            OLS   Adj. R-squared (uncentered):              0.956\n",
       "Method:                 Least Squares   F-statistic:                              1088.\n",
       "Date:                Fri, 15 Aug 2025   Prob (F-statistic):                        0.00\n",
       "Time:                        12:52:13   Log-Likelihood:                         -8333.5\n",
       "No. Observations:                 545   AIC:                                  1.669e+04\n",
       "Df Residuals:                     534   BIC:                                  1.674e+04\n",
       "Df Model:                          11                                                  \n",
       "Covariance Type:            nonrobust                                                  \n",
       "================================================================================================\n",
       "                                   coef    std err          t      P>|t|      [0.025      0.975]\n",
       "------------------------------------------------------------------------------------------------\n",
       "area                           257.5854     22.577     11.409      0.000     213.234     301.936\n",
       "bathrooms                     1.071e+06   9.27e+04     11.553      0.000    8.89e+05    1.25e+06\n",
       "stories                       5.084e+05   5.71e+04      8.898      0.000    3.96e+05    6.21e+05\n",
       "parking                       2.793e+05   5.83e+04      4.794      0.000    1.65e+05    3.94e+05\n",
       "mainroad_yes                  4.672e+05   1.27e+05      3.679      0.000    2.18e+05    7.17e+05\n",
       "guestroom_yes                 2.851e+05   1.31e+05      2.172      0.030    2.72e+04    5.43e+05\n",
       "basement_yes                  4.016e+05   1.07e+05      3.765      0.000    1.92e+05    6.11e+05\n",
       "hotwaterheating_yes           8.668e+05   2.23e+05      3.884      0.000    4.28e+05    1.31e+06\n",
       "airconditioning_yes           8.543e+05   1.07e+05      7.952      0.000    6.43e+05    1.07e+06\n",
       "prefarea_yes                  6.443e+05   1.15e+05      5.594      0.000    4.18e+05    8.71e+05\n",
       "furnishingstatus_unfurnished -3.493e+05   9.49e+04     -3.679      0.000   -5.36e+05   -1.63e+05\n",
       "==============================================================================\n",
       "Omnibus:                       94.840   Durbin-Watson:                   1.262\n",
       "Prob(Omnibus):                  0.000   Jarque-Bera (JB):              251.889\n",
       "Skew:                           0.865   Prob(JB):                     2.01e-55\n",
       "Kurtosis:                       5.845   Cond. No.                     2.74e+04\n",
       "==============================================================================\n",
       "\n",
       "Notes:\n",
       "[1] R² is computed without centering (uncentered) since the model does not contain a constant.\n",
       "[2] Standard Errors assume that the covariance matrix of the errors is correctly specified.\n",
       "[3] The condition number is large, 2.74e+04. This might indicate that there are\n",
       "strong multicollinearity or other numerical problems.\n",
       "\"\"\""
      ]
     },
     "execution_count": 53,
     "metadata": {},
     "output_type": "execute_result"
    }
   ],
   "source": [
    "model.summary()"
   ]
  },
  {
   "cell_type": "markdown",
   "id": "d3d747ad-a12c-4c1b-b4d2-8769a5cca842",
   "metadata": {},
   "source": [
    "可以看到，当我们把P值较大的自变量从线性回归模型中移除后，R方的值从0.682增长到了0.957，提高了模型对现有数据的拟合度。"
   ]
  },
  {
   "cell_type": "markdown",
   "id": "1f7c0ff1-6d3b-4605-bb20-b20922333065",
   "metadata": {},
   "source": [
    "根据各个自变量在线性回归方程中的系数来看，模型预测以下因素的增加（或存在）会显著增加房屋价格：房屋面积、厕所数、楼层数、车库容量、位于主路、有客房、有地下室、有热水器、有空调、位于城市首选社区。\n",
    "\n",
    "线性回归模型预测以下因素的增加（或存在）会显著降低房屋价格：房屋未经装修，为毛坯房。"
   ]
  },
  {
   "cell_type": "code",
   "execution_count": 54,
   "id": "0f39af98-da20-4908-92a4-ddf1a3863721",
   "metadata": {},
   "outputs": [],
   "source": [
    "# 要预测房价的房屋的信息：\n",
    "# 面积为6500平方英尺，有4个卧室、2个厕所，总共2层，不位于主路，无客人房，带地下室，有热水器，没有空调，车位数为2，位于城市首选社区，简装修"
   ]
  },
  {
   "cell_type": "code",
   "execution_count": 55,
   "id": "4b716f9d-6b9b-4c3f-9353-9f255d23e262",
   "metadata": {},
   "outputs": [
    {
     "data": {
      "text/html": [
       "<div>\n",
       "<style scoped>\n",
       "    .dataframe tbody tr th:only-of-type {\n",
       "        vertical-align: middle;\n",
       "    }\n",
       "\n",
       "    .dataframe tbody tr th {\n",
       "        vertical-align: top;\n",
       "    }\n",
       "\n",
       "    .dataframe thead th {\n",
       "        text-align: right;\n",
       "    }\n",
       "</style>\n",
       "<table border=\"1\" class=\"dataframe\">\n",
       "  <thead>\n",
       "    <tr style=\"text-align: right;\">\n",
       "      <th></th>\n",
       "      <th>area</th>\n",
       "      <th>bedrooms</th>\n",
       "      <th>bathrooms</th>\n",
       "      <th>stories</th>\n",
       "      <th>mainroad</th>\n",
       "      <th>guestroom</th>\n",
       "      <th>basement</th>\n",
       "      <th>hotwaterheating</th>\n",
       "      <th>airconditioning</th>\n",
       "      <th>parking</th>\n",
       "      <th>prefarea</th>\n",
       "      <th>furnishingstatus</th>\n",
       "    </tr>\n",
       "  </thead>\n",
       "  <tbody>\n",
       "    <tr>\n",
       "      <th>0</th>\n",
       "      <td>5600</td>\n",
       "      <td>4</td>\n",
       "      <td>2</td>\n",
       "      <td>2</td>\n",
       "      <td>no</td>\n",
       "      <td>no</td>\n",
       "      <td>yes</td>\n",
       "      <td>yes</td>\n",
       "      <td>no</td>\n",
       "      <td>2</td>\n",
       "      <td>yes</td>\n",
       "      <td>semi-furnished</td>\n",
       "    </tr>\n",
       "  </tbody>\n",
       "</table>\n",
       "</div>"
      ],
      "text/plain": [
       "   area  bedrooms  bathrooms  stories mainroad guestroom basement  \\\n",
       "0  5600         4          2        2       no        no      yes   \n",
       "\n",
       "  hotwaterheating airconditioning  parking prefarea furnishingstatus  \n",
       "0             yes              no        2      yes   semi-furnished  "
      ]
     },
     "execution_count": 55,
     "metadata": {},
     "output_type": "execute_result"
    }
   ],
   "source": [
    "price_to_predict = pd.DataFrame({\n",
    "    'area': [5600], 'bedrooms': [4], 'bathrooms': [2], \n",
    "    'stories': [2], 'mainroad': ['no'], 'guestroom': ['no'],\n",
    "    'basement': ['yes'], 'hotwaterheating': ['yes'],\n",
    "    'airconditioning': ['no'], 'parking': 2, 'prefarea': ['yes'],\n",
    "    'furnishingstatus': ['semi-furnished']\n",
    "})\n",
    "price_to_predict"
   ]
  },
  {
   "cell_type": "markdown",
   "id": "9d479cd4-af7a-41e4-ac11-6073b2a9fcef",
   "metadata": {},
   "source": [
    "我们需要把分类变量的类型转换为Category，并且通过`categories`参数，让程序知道所有可能的分类值。这样做的原因是，预测数据包含的分类可能不全。我们需要确保引入虚拟变量的时候，不会漏掉某个或某些分类。"
   ]
  },
  {
   "cell_type": "code",
   "execution_count": 56,
   "id": "dffbaa80-81a0-4b66-b3db-55452ac67491",
   "metadata": {},
   "outputs": [],
   "source": [
    "price_to_predict['mainroad'] = pd.Categorical(price_to_predict['mainroad'], categories=['no', 'yes'])\n",
    "price_to_predict['guestroom'] = pd.Categorical(price_to_predict['guestroom'], categories=['no', 'yes'])\n",
    "price_to_predict['basement'] = pd.Categorical(price_to_predict['basement'], categories=['no', 'yes'])\n",
    "price_to_predict['hotwaterheating'] = pd.Categorical(price_to_predict['hotwaterheating'], categories=['no', 'yes'])\n",
    "price_to_predict['airconditioning'] = pd.Categorical(price_to_predict['airconditioning'], categories=['no', 'yes'])\n",
    "price_to_predict['prefarea'] = pd.Categorical(price_to_predict['prefarea'], categories=['no', 'yes'])\n",
    "price_to_predict['furnishingstatus'] = pd.Categorical(price_to_predict['furnishingstatus'], categories=['furnished', 'semi-furnished', 'unfurnished'])"
   ]
  },
  {
   "cell_type": "markdown",
   "id": "b5438880-508a-487f-af5e-82d751deb82d",
   "metadata": {},
   "source": [
    "下一步，对分类变量引入虚拟变量。"
   ]
  },
  {
   "cell_type": "code",
   "execution_count": 57,
   "id": "feed4dd0-1cb0-44c4-8f5a-b40b252639ef",
   "metadata": {},
   "outputs": [
    {
     "data": {
      "text/html": [
       "<div>\n",
       "<style scoped>\n",
       "    .dataframe tbody tr th:only-of-type {\n",
       "        vertical-align: middle;\n",
       "    }\n",
       "\n",
       "    .dataframe tbody tr th {\n",
       "        vertical-align: top;\n",
       "    }\n",
       "\n",
       "    .dataframe thead th {\n",
       "        text-align: right;\n",
       "    }\n",
       "</style>\n",
       "<table border=\"1\" class=\"dataframe\">\n",
       "  <thead>\n",
       "    <tr style=\"text-align: right;\">\n",
       "      <th></th>\n",
       "      <th>area</th>\n",
       "      <th>bedrooms</th>\n",
       "      <th>bathrooms</th>\n",
       "      <th>stories</th>\n",
       "      <th>parking</th>\n",
       "      <th>mainroad_yes</th>\n",
       "      <th>guestroom_yes</th>\n",
       "      <th>basement_yes</th>\n",
       "      <th>hotwaterheating_yes</th>\n",
       "      <th>airconditioning_yes</th>\n",
       "      <th>prefarea_yes</th>\n",
       "      <th>furnishingstatus_semi-furnished</th>\n",
       "      <th>furnishingstatus_unfurnished</th>\n",
       "    </tr>\n",
       "  </thead>\n",
       "  <tbody>\n",
       "    <tr>\n",
       "      <th>0</th>\n",
       "      <td>5600</td>\n",
       "      <td>4</td>\n",
       "      <td>2</td>\n",
       "      <td>2</td>\n",
       "      <td>2</td>\n",
       "      <td>0</td>\n",
       "      <td>0</td>\n",
       "      <td>1</td>\n",
       "      <td>1</td>\n",
       "      <td>0</td>\n",
       "      <td>1</td>\n",
       "      <td>1</td>\n",
       "      <td>0</td>\n",
       "    </tr>\n",
       "  </tbody>\n",
       "</table>\n",
       "</div>"
      ],
      "text/plain": [
       "   area  bedrooms  bathrooms  stories  parking  mainroad_yes  guestroom_yes  \\\n",
       "0  5600         4          2        2        2             0              0   \n",
       "\n",
       "   basement_yes  hotwaterheating_yes  airconditioning_yes  prefarea_yes  \\\n",
       "0             1                    1                    0             1   \n",
       "\n",
       "   furnishingstatus_semi-furnished  furnishingstatus_unfurnished  \n",
       "0                                1                             0  "
      ]
     },
     "execution_count": 57,
     "metadata": {},
     "output_type": "execute_result"
    }
   ],
   "source": [
    "price_to_predict = pd.get_dummies(price_to_predict, drop_first=True,\n",
    "                                  columns=[\n",
    "                                      'mainroad', 'guestroom',\n",
    "                                      'basement', 'hotwaterheating',\n",
    "                                      'airconditioning','prefarea', \n",
    "                                      'furnishingstatus'\n",
    "                                  ], dtype=int)\n",
    "price_to_predict.head()"
   ]
  },
  {
   "cell_type": "code",
   "execution_count": 58,
   "id": "5d505487-6a0b-4016-a389-1ea742881932",
   "metadata": {},
   "outputs": [],
   "source": [
    "price_to_predict = price_to_predict.drop(['bedrooms', 'furnishingstatus_semi-furnished'], axis=1)"
   ]
  },
  {
   "cell_type": "markdown",
   "id": "8d29c33d-9d48-4353-8fac-4ad37f1ffa40",
   "metadata": {},
   "source": [
    "接下来就可以调用线性回归模型的`predict`方法，获得预测价格。"
   ]
  },
  {
   "cell_type": "code",
   "execution_count": 59,
   "id": "a8996e6f-3d34-439b-807b-a42f1f20504c",
   "metadata": {},
   "outputs": [
    {
     "data": {
      "text/plain": [
       "0    7.071927e+06\n",
       "dtype: float64"
      ]
     },
     "execution_count": 59,
     "metadata": {},
     "output_type": "execute_result"
    }
   ],
   "source": [
    "predicted_value = model.predict(price_to_predict)\n",
    "predicted_value"
   ]
  },
  {
   "cell_type": "markdown",
   "id": "e75c0b41-90e6-45bf-afc8-fa003a964c22",
   "metadata": {},
   "source": [
    "线性回归模型预测的价格为：7071927。"
   ]
  },
  {
   "cell_type": "code",
   "execution_count": null,
   "id": "cbbd4184-af2d-4625-906b-f6b1c3174b00",
   "metadata": {},
   "outputs": [],
   "source": []
  },
  {
   "cell_type": "code",
   "execution_count": null,
   "id": "6036bd01-b54d-48ee-9fac-3758f463c44e",
   "metadata": {},
   "outputs": [],
   "source": []
  },
  {
   "cell_type": "code",
   "execution_count": null,
   "id": "243c935e-7cef-40dc-aa01-5a4bf42b0128",
   "metadata": {},
   "outputs": [],
   "source": []
  },
  {
   "cell_type": "code",
   "execution_count": null,
   "id": "837e8523-76d4-4e7a-923c-de33f54e0973",
   "metadata": {},
   "outputs": [],
   "source": []
  },
  {
   "cell_type": "code",
   "execution_count": null,
   "id": "549d335a-56f8-4ac0-8435-823703460240",
   "metadata": {},
   "outputs": [],
   "source": []
  },
  {
   "cell_type": "code",
   "execution_count": null,
   "id": "d3643366-2733-40ef-9e78-098b176dab26",
   "metadata": {},
   "outputs": [],
   "source": []
  },
  {
   "cell_type": "code",
   "execution_count": null,
   "id": "db945204-3ed3-4a94-9a1f-8831ad3fc324",
   "metadata": {},
   "outputs": [],
   "source": []
  },
  {
   "cell_type": "code",
   "execution_count": null,
   "id": "1c003505-f0f4-46aa-98b9-aa410996ca03",
   "metadata": {},
   "outputs": [],
   "source": []
  },
  {
   "cell_type": "code",
   "execution_count": null,
   "id": "8cf3927d-8e7e-4f45-9f03-49ff91a35072",
   "metadata": {},
   "outputs": [],
   "source": []
  }
 ],
 "metadata": {
  "kernelspec": {
   "display_name": "Python [conda env:study]",
   "language": "python",
   "name": "conda-env-study-py"
  },
  "language_info": {
   "codemirror_mode": {
    "name": "ipython",
    "version": 3
   },
   "file_extension": ".py",
   "mimetype": "text/x-python",
   "name": "python",
   "nbconvert_exporter": "python",
   "pygments_lexer": "ipython3",
   "version": "3.10.18"
  }
 },
 "nbformat": 4,
 "nbformat_minor": 5
}
